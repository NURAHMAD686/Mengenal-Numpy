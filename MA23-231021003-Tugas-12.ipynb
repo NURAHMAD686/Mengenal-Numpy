{
 "cells": [
  {
   "cell_type": "markdown",
   "metadata": {},
   "source": [
    "$(g)$ $$x+2y+3z = 4$$\n",
    "$$5x+6y+7z = 8$$\n",
    "$$9x+10y+11z = 12$$"
   ]
  },
  {
   "cell_type": "code",
   "execution_count": 2,
   "metadata": {},
   "outputs": [
    {
     "name": "stdout",
     "output_type": "stream",
     "text": [
      "Nilai X= -0.7500000000000002\n",
      "Nilai Y= 0.5000000000000002\n",
      "Nilai Z= 1.25\n"
     ]
    }
   ],
   "source": [
    "import numpy as np\n",
    "def Solusi(A,b):\n",
    "    if np.linalg.det(A) == 0:\n",
    "        print('Solusi Tidak Ada')\n",
    "    else:\n",
    "        hasil = np.linalg.solve(A,b)\n",
    "        print('Nilai X=', hasil[0,0])\n",
    "        print('Nilai Y=', hasil[1,0])\n",
    "        print('Nilai Z=', hasil[2,0])\n",
    "        return\n",
    "\n",
    "A = np.array([[1,2,3],\n",
    "             [5,6,7],\n",
    "             [9,10,11]])\n",
    "\n",
    "b= np.array([[4],\n",
    "            [8],\n",
    "            [12]])\n",
    "\n",
    "hasil = Solusi(A,b)"
   ]
  },
  {
   "cell_type": "markdown",
   "metadata": {},
   "source": [
    "$(j)$\n",
    "\n",
    "$$x_1 - x_2 + 2x_3 + x_4 = -1$$\n",
    "$$2x_1 + x_2 +  x_3 - x_4 = 4$$\n",
    "$$x_1 + 2x_2 - x_3 - 2x_4 = 5$$\n",
    "$$x_1 + 0 + x_3 + 0 = 1"
   ]
  },
  {
   "cell_type": "code",
   "execution_count": 3,
   "metadata": {},
   "outputs": [
    {
     "name": "stdout",
     "output_type": "stream",
     "text": [
      "Solusi Tidak Ada\n"
     ]
    }
   ],
   "source": [
    "import numpy as np\n",
    "def Solusi(C,d):\n",
    "    if np.linalg.det(C) == 0:\n",
    "        print('Solusi Tidak Ada')\n",
    "    else:\n",
    "        hasil = np.linalg.solve(C,d)\n",
    "        print('Nilai x_1=', hasil[0,0])\n",
    "        print('Nilai x_2=', hasil[1,0])\n",
    "        print('Nilai x_3=', hasil[2,0])\n",
    "        print('Nilai x_4=', hasil[3,0])\n",
    "        return\n",
    "\n",
    "C = np.array([[1,-1,2,1],\n",
    "             [2,1,1,-1],\n",
    "             [1,2,-1,-2],\n",
    "             [1,0,1,0]])\n",
    "\n",
    "d = np.array([[-1],\n",
    "            [4],\n",
    "            [5],\n",
    "            [1]])\n",
    "\n",
    "hasil = Solusi(C,d)"
   ]
  },
  {
   "cell_type": "markdown",
   "metadata": {},
   "source": [
    "$(q)$\n",
    "$$ 2x_1+ x_2 + 0 + x_4 + 2x_5 = 0 $$\n",
    "$$ x_1 + x_2 - x_3 + 0 + 0 = 0 $$\n",
    "$$ x_1 + x_2 + x_3 - 3x_4 + 2x_5 = 0 $$\n",
    "$$ 2x_1 + 2x_2 - x_3 + 0 + x_5 = 0 $$\n",
    "$$ x_1 + x_2 + 0 + 0 + 0 = 3 $$   "
   ]
  },
  {
   "cell_type": "code",
   "execution_count": 9,
   "metadata": {},
   "outputs": [
    {
     "name": "stdout",
     "output_type": "stream",
     "text": [
      "Nilai x_1= 3.0\n",
      "Nilai x_2= 0.0\n",
      "Nilai x_3= 3.0\n",
      "Nilai x_4= -0.0\n",
      "Nilai x_5= -3.0\n"
     ]
    }
   ],
   "source": [
    "import numpy as np\n",
    "def Solusi(f,h):\n",
    "    if np.linalg.det(f) == 0:\n",
    "        print('Solusi Tidak Ada')\n",
    "    else:\n",
    "        hasil = np.linalg.solve(f,h)\n",
    "        print('Nilai x_1=', hasil[0,0])\n",
    "        print('Nilai x_2=', hasil[1,0])\n",
    "        print('Nilai x_3=', hasil[2,0])\n",
    "        print('Nilai x_4=', hasil[3,0])\n",
    "        print('Nilai x_5=', hasil[4,0])\n",
    "        return\n",
    "\n",
    "f = np.array([[2,1,0,1,2],\n",
    "             [1,1,-1,0,0],\n",
    "             [1,1,1,-3,2],\n",
    "             [2,2,-1,0,1],\n",
    "             [1,1,0,0,0]])\n",
    "   \n",
    "h = np.array([[0],\n",
    "            [0],\n",
    "            [0],\n",
    "            [0],\n",
    "            [3]])\n",
    "\n",
    "hasil = Solusi(f,h)"
   ]
  }
 ],
 "metadata": {
  "kernelspec": {
   "display_name": "Python 3",
   "language": "python",
   "name": "python3"
  },
  "language_info": {
   "codemirror_mode": {
    "name": "ipython",
    "version": 3
   },
   "file_extension": ".py",
   "mimetype": "text/x-python",
   "name": "python",
   "nbconvert_exporter": "python",
   "pygments_lexer": "ipython3",
   "version": "3.11.9"
  }
 },
 "nbformat": 4,
 "nbformat_minor": 2
}
