{
  "nbformat": 4,
  "nbformat_minor": 0,
  "metadata": {
    "colab": {
      "provenance": []
    },
    "kernelspec": {
      "name": "python3",
      "display_name": "Python 3"
    },
    "language_info": {
      "name": "python"
    }
  },
  "cells": [
    {
      "cell_type": "markdown",
      "source": [
        "#Selamat datang di NumPy!\n",
        "`NumPy` (Numerical Python) adalah pustaka Python sumber terbuka yang digunakan di hampir semua bidang sains dan\n",
        "teknik. Ini adalah standar universal untuk bekerja dengan data numerik dengan Python, dan merupakan inti dari\n",
        "ekosistem ilmiah Python dan PyData. Pengguna `NumPy` mencakup semua orang mulai dari pembuat kode pemula\n",
        "hingga peneliti berpengalaman yang melakukan penelitian dan pengembangan ilmiah dan industri mutakhir. `NumPy` API\n",
        "digunakan secara luas di Pandas, SciPy, Matplotlib, scikit-learn, scikit-image dan sebagian besar paket sains data dan\n",
        "Python ilmiah lainnya."
      ],
      "metadata": {
        "id": "2krVElYTdOpt"
      }
    },
    {
      "cell_type": "markdown",
      "source": [
        "#Menginstal NumPy\n",
        "Untuk menginstal NumPy, kami sangat menyarankan menggunakan distribusi ilmiah Python. Jika Anda mencari petunjuk lengkap untuk menginstal `NumPy` di ​​sistem operasi Anda, lihat Menginstal `NumPy`.\n",
        "\n",
        "Jika Anda sudah memiliki Python, Anda dapat menginstal `NumPy` dengan:\n",
        "\n",
        "`conda instal numpy`\n",
        "\n",
        "atau\n",
        "\n",
        "`pip instal numpy`\n",
        "\n",
        "Jika Anda belum memiliki Python, Anda mungkin ingin mempertimbangkan untuk menggunakan Anaconda. Ini adalah cara termudah untuk memulai. Hal yang baik tentang mendapatkan distribusi ini adalah kenyataan bahwa Anda tidak perlu terlalu khawatir tentang menginstal `NumPy` secara terpisah atau paket utama apa pun yang akan Anda gunakan untuk analisis data Anda, seperti pandas, Scikit-Learn, dll."
      ],
      "metadata": {
        "id": "JylL-F0odn5m"
      }
    },
    {
      "cell_type": "markdown",
      "source": [
        "#Bagaimana cara mengimpor NumPy\n",
        "\n",
        "Untuk mengakses `NumPy` dan fungsinya, imporlah dalam kode Python Anda seperti ini:"
      ],
      "metadata": {
        "id": "VwaAopYqej1y"
      }
    },
    {
      "cell_type": "code",
      "source": [
        "import numpy as np"
      ],
      "metadata": {
        "id": "lgN6uNR5e5a3"
      },
      "execution_count": null,
      "outputs": []
    },
    {
      "cell_type": "markdown",
      "source": [
        "\n",
        "Kami mempersingkat nama yang diimpor menjadi np agar kode lebih mudah dibaca menggunakan ``NumPy``."
      ],
      "metadata": {
        "id": "HvCXjMfvfERe"
      }
    },
    {
      "cell_type": "markdown",
      "source": [
        "#Membaca kode contoh\n",
        "Jika Anda belum terbiasa membaca tutorial yang berisi banyak kode, Anda mungkin tidak tahu cara menafsirkan blok kode yang terlihat seperti ini:"
      ],
      "metadata": {
        "id": "GSnhOKQsfqK1"
      }
    },
    {
      "cell_type": "code",
      "source": [
        "a = np.arange(6)\n",
        "print(a)\n",
        "a2 = a[np.newaxis, :]\n",
        "print(a2.shape)"
      ],
      "metadata": {
        "id": "oKenL85EfyZb"
      },
      "execution_count": null,
      "outputs": []
    },
    {
      "cell_type": "markdown",
      "source": [
        "Jika Anda belum familiar dengan gaya ini, sangat mudah untuk memahaminya. Jika Anda melihat >>>, berarti Anda sedang melihat input, atau kode yang akan Anda masukkan. Segala sesuatu yang tidak memiliki >>> di depannya adalah keluaran, atau hasil dari menjalankan kode Anda. Ini adalah gaya yang Anda lihat saat menjalankan python di baris perintah, tetapi jika Anda menggunakan IPython, Anda mungkin melihat gaya yang berbeda. Perhatikan bahwa ini bukan bagian dari kode dan akan menyebabkan kesalahan jika diketik atau ditempelkan ke shell Python. Itu dapat diketik atau ditempel dengan aman ke dalam shell IPython; >>> diabaikan."
      ],
      "metadata": {
        "id": "-BtTf7bdf6_q"
      }
    },
    {
      "cell_type": "markdown",
      "source": [
        "#Apa perbedaan antara daftar Python dan array NumPy?\n",
        "`NumPy` memberi Anda beragam cara cepat dan efisien untuk membuat array dan memanipulasi data numerik di dalamnya. Meskipun daftar Python dapat berisi tipe data berbeda dalam satu daftar, semua elemen dalam array `NumPy` harus homogen. Operasi matematika yang dimaksudkan untuk dilakukan pada array akan menjadi sangat tidak efisien jika array tidak homogen.\n",
        "\n",
        "#Mengapa menggunakan NumPy?\n",
        "\n",
        "Array `NumPy` lebih cepat dan lebih kompak daripada daftar Python. Sebuah array mengkonsumsi lebih sedikit memori dan nyaman digunakan. `NumPy` menggunakan lebih sedikit memori untuk menyimpan data dan menyediakan mekanisme untuk menentukan tipe data. Hal ini memungkinkan kode untuk dioptimalkan lebih jauh."
      ],
      "metadata": {
        "id": "C7KQVobrgaoW"
      }
    },
    {
      "cell_type": "markdown",
      "source": [
        "#Apa itu array?\n",
        "Array adalah struktur data pusat perpustakaan `NumPy.` Array adalah kisi-kisi nilai dan berisi informasi tentang data mentah, cara menemukan lokasi elemen, dan cara menafsirkan elemen. Ini memiliki kisi elemen yang dapat diindeks dengan berbagai cara. Semua elemen memiliki tipe yang sama, disebut sebagai array dtype.\n",
        "\n",
        "Sebuah array dapat diindeks dengan serangkaian bilangan bulat non-negatif, dengan boolean, dengan array lain, atau dengan bilangan bulat. Peringkat array adalah jumlah dimensi. Bentuk array adalah kumpulan bilangan bulat yang memberikan ukuran array di setiap dimensinya.\n",
        "\n",
        "Salah satu cara kita menginisialisasi array `NumPy` adalah dari daftar Python, menggunakan daftar bersarang untuk data dua dimensi atau lebih tinggi.\n",
        "\n",
        "Misalnya:"
      ],
      "metadata": {
        "id": "LGQIEjS5g4wN"
      }
    },
    {
      "cell_type": "code",
      "source": [
        "a = np.array([[1, 2, 3, 4], [5, 6, 7, 8], [9, 10, 11, 12]])"
      ],
      "metadata": {
        "id": "XeQsv8VJhF6V"
      },
      "execution_count": null,
      "outputs": []
    },
    {
      "cell_type": "markdown",
      "source": [
        "Kita dapat mengakses elemen-elemen dalam array menggunakan tanda kurung siku. Saat Anda mengakses elemen, ingatlah bahwa pengindeksan di NumPy dimulai dari 0. Artinya, jika Anda ingin mengakses elemen pertama dalam array, Anda akan mengakses elemen “0”."
      ],
      "metadata": {
        "id": "jRQlAtZBhOTD"
      }
    },
    {
      "cell_type": "code",
      "source": [
        "print(a[0])"
      ],
      "metadata": {
        "id": "bg7xgyI_hsGY"
      },
      "execution_count": null,
      "outputs": []
    },
    {
      "cell_type": "markdown",
      "source": [
        "#Informasi lebih lanjut tentang array\n",
        "Bagian ini mencakup *array 1D*, *array 2D*, *ndarray*, *vektor*, *matriks*\n",
        "\n",
        "Anda mungkin kadang-kadang mendengar array yang disebut sebagai **“ndarray**,” yang merupakan singkatan dari **“array berdimensi-N.”** Array berdimensi N hanyalah sebuah array dengan jumlah dimensi berapa pun. Anda mungkin juga mendengar array 1-D, atau array satu dimensi, array 2-D, atau dua dimensi, dan seterusnya. Kelas NumPy ndarray digunakan untuk merepresentasikan matriks dan vektor. Vektor adalah larik berdimensi tunggal (tidak ada perbedaan antara vektor baris dan kolom), sedangkan matriks mengacu pada larik berdimensi dua. Untuk array 3D atau dimensi yang lebih tinggi, istilah tensor juga umum digunakan.\n",
        "\n",
        "#Apa sajakah atribut dari array?\n",
        "\n",
        "Array biasanya merupakan wadah berukuran tetap yang berisi item-item dengan tipe dan ukuran yang sama. Jumlah dimensi dan item dalam array ditentukan oleh bentuknya. Bentuk array adalah kumpulan bilangan bulat non-negatif yang menentukan ukuran setiap dimensi.\n",
        "\n",
        "Di NumPy, dimensi disebut sumbu. Artinya jika Anda memiliki array 2D yang terlihat seperti ini:\n"
      ],
      "metadata": {
        "id": "DXdb9oV9iHRL"
      }
    },
    {
      "cell_type": "code",
      "source": [
        "[[0., 0., 0.],\n",
        " [1., 1., 1.]]"
      ],
      "metadata": {
        "id": "pidTIURCipM_"
      },
      "execution_count": null,
      "outputs": []
    },
    {
      "cell_type": "markdown",
      "source": [
        "Array Anda memiliki 2 sumbu. Sumbu pertama panjangnya 2 dan sumbu kedua panjangnya 3.\n",
        "\n",
        "Sama seperti objek container Python lainnya, konten array dapat diakses dan dimodifikasi dengan mengindeks atau mengiris array. Berbeda dengan objek container pada umumnya, array yang berbeda dapat berbagi data yang sama, sehingga perubahan yang dilakukan pada satu array mungkin terlihat pada array lainnya.\n",
        "\n",
        "Atribut array mencerminkan informasi intrinsik pada array itu sendiri. Jika Anda perlu mendapatkan, atau bahkan mengatur, properti array tanpa membuat array baru, Anda sering kali dapat mengakses array melalui atributnya."
      ],
      "metadata": {
        "id": "B8Z3LsSyiqad"
      }
    },
    {
      "cell_type": "markdown",
      "source": [
        "#Cara membuat array dasar\n",
        "Bagian ini mencakup *np.array()*, *np.zeros()*, *np.ones()*, *np.empty()*, *np.arange()*, *np.linspace()*, dtype\n",
        "\n",
        "Untuk membuat array NumPy, Anda dapat menggunakan fungsi np.array().\n",
        "\n",
        "Yang perlu Anda lakukan untuk membuat array sederhana adalah meneruskan daftar ke dalamnya. Jika Anda memilihnya, Anda juga dapat menentukan tipe data dalam daftar Anda. Anda dapat menemukan informasi selengkapnya tentang tipe data di sini."
      ],
      "metadata": {
        "id": "YiZPBmXDizZl"
      }
    },
    {
      "cell_type": "code",
      "source": [
        "import numpy as np\n",
        "a = np.array([1, 2, 3])"
      ],
      "metadata": {
        "id": "tUzvHZj7jh6u"
      },
      "execution_count": null,
      "outputs": []
    },
    {
      "cell_type": "markdown",
      "source": [
        "Selain membuat array dari rangkaian elemen, Anda dapat dengan mudah membuat array yang diisi dengan angka 0:"
      ],
      "metadata": {
        "id": "tTHJZMfyjsGo"
      }
    },
    {
      "cell_type": "code",
      "source": [
        "np.zeros(2)"
      ],
      "metadata": {
        "id": "oEtZauyvjtWz"
      },
      "execution_count": null,
      "outputs": []
    },
    {
      "cell_type": "markdown",
      "source": [
        "Atau array yang diisi dengan 1:"
      ],
      "metadata": {
        "id": "3eYO_1VLjw4d"
      }
    },
    {
      "cell_type": "code",
      "source": [
        "np.ones(2)"
      ],
      "metadata": {
        "id": "PYlDJP09j4Py"
      },
      "execution_count": null,
      "outputs": []
    },
    {
      "cell_type": "markdown",
      "source": [
        "Atau bahkan array kosong! Fungsi kosong membuat array yang konten awalnya acak dan bergantung pada keadaan memori. Alasan menggunakan kosong di atas nol (atau yang serupa) adalah kecepatan - pastikan untuk mengisi setiap elemen setelahnya!"
      ],
      "metadata": {
        "id": "qYyS4haYj77D"
      }
    },
    {
      "cell_type": "code",
      "source": [
        "# Create an empty array with 2 elements\n",
        "np.empty(2)"
      ],
      "metadata": {
        "id": "rxGn6z26kEXN"
      },
      "execution_count": null,
      "outputs": []
    },
    {
      "cell_type": "markdown",
      "source": [
        "Anda dapat membuat array dengan berbagai elemen:"
      ],
      "metadata": {
        "id": "XXwVC507kIgJ"
      }
    },
    {
      "cell_type": "code",
      "source": [
        "np.arange(4)"
      ],
      "metadata": {
        "id": "Z3bWlsUHkRei"
      },
      "execution_count": null,
      "outputs": []
    },
    {
      "cell_type": "markdown",
      "source": [
        "Dan bahkan array yang berisi rentang interval yang berjarak sama. Untuk melakukan ini, Anda akan menentukan angka pertama, angka terakhir, dan ukuran langkah."
      ],
      "metadata": {
        "id": "pF9UtFW6kYk1"
      }
    },
    {
      "cell_type": "code",
      "source": [
        "np.arange(2, 9, 2)"
      ],
      "metadata": {
        "id": "RNVHUANTkZwf"
      },
      "execution_count": null,
      "outputs": []
    },
    {
      "cell_type": "markdown",
      "source": [
        "Anda juga dapat menggunakan np.linspace() untuk membuat array dengan nilai yang diberi jarak linier dalam interval tertentu:"
      ],
      "metadata": {
        "id": "4wWdf6CWkePL"
      }
    },
    {
      "cell_type": "code",
      "source": [
        "np.linspace(0, 10, num=5)"
      ],
      "metadata": {
        "id": "KJG0xGoZkkCU"
      },
      "execution_count": null,
      "outputs": []
    },
    {
      "cell_type": "markdown",
      "source": [
        "#Menentukan tipe data Anda\n",
        "\n",
        "Meskipun tipe data defaultnya adalah floating point (np.float64), Anda dapat secara eksplisit menentukan tipe data mana yang Anda inginkan menggunakan kata kunci dtype."
      ],
      "metadata": {
        "id": "uPrw80SXkn8A"
      }
    },
    {
      "cell_type": "code",
      "source": [
        "x = np.ones(2, dtype=np.int64)\n",
        "x"
      ],
      "metadata": {
        "id": "EchFxsMtkvHq"
      },
      "execution_count": null,
      "outputs": []
    },
    {
      "cell_type": "markdown",
      "source": [
        "#Menambah, menghapus, dan mengurutkan elemen\n",
        "\n",
        "Bagian ini mencakup `np.sort()`, `np.concatenate()`\n",
        "\n",
        "Mengurutkan elemen itu mudah dengan `np.sort()`. Anda dapat menentukan sumbu, jenis, dan urutan saat memanggil fungsi.\n",
        "\n",
        "Jika Anda memulai dengan array ini:"
      ],
      "metadata": {
        "id": "rRyh7hHBkzxq"
      }
    },
    {
      "cell_type": "code",
      "source": [
        "arr = np.array([2, 1, 5, 3, 7, 4, 6, 8])"
      ],
      "metadata": {
        "id": "HHgVZquilNJO"
      },
      "execution_count": null,
      "outputs": []
    },
    {
      "cell_type": "markdown",
      "source": [
        "Anda dapat dengan cepat mengurutkan angka dalam urutan menaik dengan:"
      ],
      "metadata": {
        "id": "iqrfuEr7lTNA"
      }
    },
    {
      "cell_type": "code",
      "source": [
        "np.sort(arr)"
      ],
      "metadata": {
        "id": "4_5INa67lUx6"
      },
      "execution_count": null,
      "outputs": []
    },
    {
      "cell_type": "markdown",
      "source": [
        "Selain mengurutkan, yang mengembalikan salinan array yang diurutkan, Anda dapat menggunakan:\n",
        "\n",
        "* argsort, yang merupakan pengurutan tidak langsung sepanjang sumbu tertentu,\n",
        "\n",
        "* lexsort, yang merupakan pengurutan stabil tidak langsung pada banyak kunci,\n",
        "\n",
        "* searchsorted, yang akan menemukan elemen dalam array yang diurutkan, dan\n",
        "\n",
        "* partisi, yang merupakan jenis parsial.\n",
        "\n",
        "Untuk membaca lebih lanjut tentang pengurutan array, lihat: sortir.\n",
        "\n",
        "Jika Anda memulai dengan array ini:"
      ],
      "metadata": {
        "id": "SY4rWH2ZlYq1"
      }
    },
    {
      "cell_type": "code",
      "source": [
        "a = np.array([1, 2, 3, 4])\n",
        "b = np.array([5, 6, 7, 8])"
      ],
      "metadata": {
        "id": "l-Y-7CO_lxZy"
      },
      "execution_count": null,
      "outputs": []
    },
    {
      "cell_type": "markdown",
      "source": [
        "Anda dapat menggabungkannya dengan `np.concatenate().`"
      ],
      "metadata": {
        "id": "b5WpGwrhlylQ"
      }
    },
    {
      "cell_type": "code",
      "source": [
        "np.concatenate((a, b))"
      ],
      "metadata": {
        "id": "eXvlenKbl9Ma"
      },
      "execution_count": null,
      "outputs": []
    },
    {
      "cell_type": "markdown",
      "source": [
        "Atau, jika Anda memulai dengan array berikut:"
      ],
      "metadata": {
        "id": "u06ity-gl-Q3"
      }
    },
    {
      "cell_type": "code",
      "source": [
        "x = np.array([[1, 2], [3, 4]])\n",
        "y = np.array([[5, 6]])"
      ],
      "metadata": {
        "id": "cT-56GSBmDSg"
      },
      "execution_count": null,
      "outputs": []
    },
    {
      "cell_type": "markdown",
      "source": [
        "Anda dapat menggabungkannya dengan:"
      ],
      "metadata": {
        "id": "DTZ8m8FamHoy"
      }
    },
    {
      "cell_type": "code",
      "source": [
        "np.concatenate((x, y), axis=0)"
      ],
      "metadata": {
        "id": "93kCBXy8mP_e"
      },
      "execution_count": null,
      "outputs": []
    },
    {
      "cell_type": "markdown",
      "source": [
        "Untuk menghapus elemen dari array, cukup gunakan pengindeksan untuk memilih elemen yang ingin Anda pertahankan.\n",
        "\n",
        "Untuk membaca selengkapnya tentang concatenate, lihat: concatenate."
      ],
      "metadata": {
        "id": "Nfo2meG6mVD1"
      }
    },
    {
      "cell_type": "markdown",
      "source": [
        "#Bagaimana cara mengetahui bentuk dan ukuran array?\n",
        "Bagian ini mencakup `ndarray.ndim`, `ndarray.size`, `ndarray.shape`\n",
        "\n",
        "ndarray.ndim akan memberi tahu Anda jumlah sumbu, atau dimensi, dari array.\n",
        "\n",
        "ndarray.size akan memberi tahu Anda jumlah total elemen array. Ini adalah produk dari elemen bentuk array.\n",
        "\n",
        "ndarray.shape akan menampilkan tupel bilangan bulat yang menunjukkan jumlah elemen yang disimpan di setiap dimensi array. Jika, misalnya, Anda memiliki larik 2D dengan 2 baris dan 3 kolom, bentuk larik Anda adalah (2, 3).\n",
        "\n",
        "Misalnya, jika Anda membuat array ini:"
      ],
      "metadata": {
        "id": "1kVP8qKcmhgJ"
      }
    },
    {
      "cell_type": "code",
      "source": [
        "array_example = np.array([[[0, 1, 2, 3],\n",
        "                           [4, 5, 6, 7]],\n",
        "\n",
        "                          [[0, 1, 2, 3],\n",
        "                           [4, 5, 6, 7]],\n",
        "\n",
        "                          [[0 ,1 ,2, 3],\n",
        "                           [4, 5, 6, 7]]])"
      ],
      "metadata": {
        "id": "s9XrieHnmvoB"
      },
      "execution_count": null,
      "outputs": []
    },
    {
      "cell_type": "markdown",
      "source": [
        "Untuk mencari jumlah dimensi array, jalankan:"
      ],
      "metadata": {
        "id": "Iauxj8tam0Gm"
      }
    },
    {
      "cell_type": "code",
      "source": [
        "array_example.ndim"
      ],
      "metadata": {
        "id": "dN4DSrHZm9vZ"
      },
      "execution_count": null,
      "outputs": []
    },
    {
      "cell_type": "markdown",
      "source": [
        "Untuk menemukan jumlah total elemen dalam array, jalankan:"
      ],
      "metadata": {
        "id": "WO2heqZgnFjj"
      }
    },
    {
      "cell_type": "code",
      "source": [
        "array_example.size"
      ],
      "metadata": {
        "id": "fXvEIGLHnIw-"
      },
      "execution_count": null,
      "outputs": []
    },
    {
      "cell_type": "markdown",
      "source": [
        "Dan untuk menemukan bentuk array Anda, jalankan:"
      ],
      "metadata": {
        "id": "YlnCmFnDnTif"
      }
    },
    {
      "cell_type": "code",
      "source": [
        "array_example.shape"
      ],
      "metadata": {
        "id": "8h8scvASnQGr"
      },
      "execution_count": null,
      "outputs": []
    },
    {
      "cell_type": "markdown",
      "source": [
        "#Bisakah Anda membentuk ulang array?\n",
        "Bagian ini mencakup `arr.reshape(`)\n",
        "\n",
        "**Ya!**\n",
        "\n",
        "Menggunakan `arr.reshape()` akan memberikan bentuk baru pada array tanpa mengubah datanya. Ingatlah bahwa ketika Anda menggunakan metode reshape, array yang ingin Anda hasilkan harus memiliki jumlah elemen yang sama dengan array aslinya. Jika Anda memulai dengan array dengan 12 elemen, Anda harus memastikan bahwa array baru Anda juga memiliki total 12 elemen.\n",
        "\n",
        "Jika Anda memulai dengan array ini:"
      ],
      "metadata": {
        "id": "wssyPIfMngMl"
      }
    },
    {
      "cell_type": "code",
      "source": [
        "a = np.arange(6)\n",
        "print(a)"
      ],
      "metadata": {
        "id": "BqlzV2n9nvd3"
      },
      "execution_count": null,
      "outputs": []
    },
    {
      "cell_type": "markdown",
      "source": [
        "Anda dapat menggunakan `reshape()` untuk membentuk ulang array Anda. Misalnya, Anda bisa membentuk ulang larik ini menjadi larik dengan tiga baris dan dua kolom:"
      ],
      "metadata": {
        "id": "ckLQpU8snw_U"
      }
    },
    {
      "cell_type": "code",
      "source": [
        "b = a.reshape(3, 2)\n",
        "print(b)"
      ],
      "metadata": {
        "id": "NVJdLSyKnxu9"
      },
      "execution_count": null,
      "outputs": []
    },
    {
      "cell_type": "markdown",
      "source": [
        "Dengan np.reshape, Anda dapat menentukan beberapa parameter opsional:"
      ],
      "metadata": {
        "id": "n7TfRmj2oETe"
      }
    },
    {
      "cell_type": "code",
      "source": [
        "np.reshape(a, newshape=(1, 6), order='C')"
      ],
      "metadata": {
        "id": "ihJ48H3qoE0c"
      },
      "execution_count": null,
      "outputs": []
    },
    {
      "cell_type": "markdown",
      "source": [
        "`a` adalah array yang akan dibentuk ulang.\n",
        "\n",
        "`newshape` adalah bentuk baru yang Anda inginkan. Anda dapat menentukan bilangan bulat atau tupel bilangan bulat. Jika Anda menentukan bilangan bulat, hasilnya akan berupa array dengan panjang tersebut. Bentuknya harus sesuai dengan bentuk aslinya.\n",
        "\n",
        "`urutan:C` berarti membaca/menulis elemen menggunakan urutan indeks mirip C, F berarti membaca/menulis elemen menggunakan urutan indeks mirip Fortran, A berarti membaca/menulis elemen dalam urutan indeks mirip Fortran jika a adalah Fortran bersebelahan dalam memori, urutan seperti C sebaliknya. (Ini adalah parameter opsional dan tidak perlu ditentukan.)\n",
        "\n",
        "Jika Anda ingin mempelajari lebih lanjut tentang urutan C dan Fortran, Anda dapat membaca lebih lanjut tentang organisasi internal array NumPy di ​​sini. Pada dasarnya, perintah C dan Fortran berkaitan dengan bagaimana indeks sesuai dengan urutan penyimpanan array dalam memori. Di Fortran, ketika berpindah melalui elemen array dua dimensi seperti yang disimpan dalam memori, indeks pertama adalah indeks yang paling cepat berubah. Saat indeks pertama berpindah ke baris berikutnya seiring perubahannya, matriks disimpan satu kolom pada satu waktu. Inilah sebabnya mengapa Fortran dianggap sebagai bahasa Kolom-utama. Sebaliknya, di C, indeks terakhir berubah paling cepat. Matriks disimpan berdasarkan baris, menjadikannya **bahasa Row-mayor**. Apa yang Anda lakukan untuk C atau Fortran bergantung pada apakah lebih penting mempertahankan konvensi pengindeksan atau tidak menyusun ulang data."
      ],
      "metadata": {
        "id": "T1G9OANao-jd"
      }
    },
    {
      "cell_type": "markdown",
      "source": [
        "#Cara mengubah array 1D menjadi array 2D (cara menambahkan sumbu baru ke array)\n",
        "Bagian ini mencakup `np.newaxis`, `np.expand_dims`\n",
        "\n",
        "Anda dapat menggunakan np.newaxis dan `np.expand_dims` untuk meningkatkan dimensi array yang ada.\n",
        "\n",
        "Menggunakan np.newaxis akan menambah dimensi array Anda sebanyak satu dimensi bila digunakan sekali. Artinya array 1D akan menjadi array 2D, array 2D akan menjadi array 3D, dan seterusnya.\n",
        "\n",
        "Misalnya, jika Anda memulai dengan array ini:"
      ],
      "metadata": {
        "id": "uTOWRDyZpd79"
      }
    },
    {
      "cell_type": "code",
      "source": [
        "a = np.array([1, 2, 3, 4, 5, 6])\n",
        "a.shape"
      ],
      "metadata": {
        "id": "I8IW7w5gpyg4"
      },
      "execution_count": null,
      "outputs": []
    },
    {
      "cell_type": "markdown",
      "source": [
        "Anda dapat menggunakan `np.newaxis` untuk menambahkan sumbu baru:"
      ],
      "metadata": {
        "id": "99_xedpWp6It"
      }
    },
    {
      "cell_type": "code",
      "source": [
        "a2 = a[np.newaxis, :]\n",
        "a2.shape"
      ],
      "metadata": {
        "id": "Dd97yFEEp2P9"
      },
      "execution_count": null,
      "outputs": []
    },
    {
      "cell_type": "markdown",
      "source": [
        "Anda dapat secara eksplisit mengonversi array 1D dengan vektor baris atau vektor kolom menggunakan np.newaxis. Misalnya, Anda dapat mengonversi array 1D menjadi vektor baris dengan menyisipkan sumbu di sepanjang dimensi pertama:"
      ],
      "metadata": {
        "id": "_BBP6QbHqIu_"
      }
    },
    {
      "cell_type": "code",
      "source": [
        "row_vector = a[np.newaxis, :]\n",
        "row_vector.shape"
      ],
      "metadata": {
        "id": "4OLyihwyqH-R"
      },
      "execution_count": null,
      "outputs": []
    },
    {
      "cell_type": "markdown",
      "source": [
        "Atau, untuk vektor kolom, Anda bisa menyisipkan sumbu sepanjang dimensi kedua:"
      ],
      "metadata": {
        "id": "N6XxDLS5qU7X"
      }
    },
    {
      "cell_type": "code",
      "source": [
        "col_vector = a[:, np.newaxis]\n",
        "col_vector.shape"
      ],
      "metadata": {
        "id": "OeIlTWdEqVbr"
      },
      "execution_count": null,
      "outputs": []
    },
    {
      "cell_type": "markdown",
      "source": [
        "Anda juga dapat memperluas array dengan menyisipkan sumbu baru pada posisi tertentu dengan `np.expand_dims`.\n",
        "\n",
        "Misalnya, jika Anda memulai dengan array ini:"
      ],
      "metadata": {
        "id": "C-ag9Rq6qe3m"
      }
    },
    {
      "cell_type": "code",
      "source": [
        "a = np.array([1, 2, 3, 4, 5, 6])\n",
        "a.shape"
      ],
      "metadata": {
        "id": "euHjy1ebqfdZ"
      },
      "execution_count": null,
      "outputs": []
    },
    {
      "cell_type": "markdown",
      "source": [
        "Anda dapat menggunakan np.expand_dims untuk menambahkan sumbu pada posisi indeks 1 dengan:"
      ],
      "metadata": {
        "id": "adweFaI0qwWn"
      }
    },
    {
      "cell_type": "code",
      "source": [
        "b = np.expand_dims(a, axis=1)\n",
        "b.shape"
      ],
      "metadata": {
        "id": "59nFcHtYqtOq"
      },
      "execution_count": null,
      "outputs": []
    },
    {
      "cell_type": "markdown",
      "source": [
        "Anda dapat menambahkan sumbu pada posisi indeks 0 dengan:"
      ],
      "metadata": {
        "id": "AkCQlqs4qzpI"
      }
    },
    {
      "cell_type": "code",
      "source": [
        "c = np.expand_dims(a, axis=0)\n",
        "c.shape"
      ],
      "metadata": {
        "id": "0VLEQOYoq0Lw"
      },
      "execution_count": null,
      "outputs": []
    },
    {
      "cell_type": "markdown",
      "source": [
        "#Mengindeks dan mengiris\n",
        "Anda dapat mengindeks dan mengiris array NumPy dengan cara yang sama seperti Anda mengiris daftar Python."
      ],
      "metadata": {
        "id": "lPVw3nDRuCOh"
      }
    },
    {
      "cell_type": "code",
      "source": [
        "data = np.array([1, 2, 3])\n",
        "x1 = data[1]\n",
        "print(x1)\n",
        "x2 = data[0:2]\n",
        "print(x2)\n",
        "x3 = data[1:]\n",
        "print(x3)\n",
        "x4 = data[-2:]\n",
        "print(x4)"
      ],
      "metadata": {
        "id": "esOr2nXZuPKe"
      },
      "execution_count": null,
      "outputs": []
    },
    {
      "cell_type": "markdown",
      "source": [
        "Anda mungkin ingin mengambil bagian dari array Anda atau elemen array tertentu untuk digunakan dalam analisis lebih lanjut atau operasi tambahan. Untuk melakukannya, Anda perlu membuat subset, mengiris, dan/atau mengindeks array Anda.\n",
        "\n",
        "Jika Anda ingin memilih nilai dari array yang memenuhi kondisi tertentu, caranya mudah dilakukan dengan NumPy.\n",
        "\n",
        "Misalnya, jika Anda memulai dengan array ini:"
      ],
      "metadata": {
        "id": "beicDgsEuY4-"
      }
    },
    {
      "cell_type": "code",
      "source": [
        "a = np.array([[1 , 2, 3, 4], [5, 6, 7, 8], [9, 10, 11, 12]])"
      ],
      "metadata": {
        "id": "62cjRhSAuagd"
      },
      "execution_count": null,
      "outputs": []
    },
    {
      "cell_type": "markdown",
      "source": [
        "Anda dapat dengan mudah mencetak semua nilai dalam array yang kurang dari 5."
      ],
      "metadata": {
        "id": "tuNMb00ourtP"
      }
    },
    {
      "cell_type": "code",
      "source": [
        "print(a[a < 5])"
      ],
      "metadata": {
        "id": "YXyBzSUMutzz"
      },
      "execution_count": null,
      "outputs": []
    },
    {
      "cell_type": "markdown",
      "source": [
        "Anda juga dapat memilih, misalnya, angka yang sama dengan atau lebih besar dari 5, dan menggunakan kondisi tersebut untuk mengindeks array."
      ],
      "metadata": {
        "id": "RSkhSTnDuzIF"
      }
    },
    {
      "cell_type": "code",
      "source": [
        "five_up = (a >= 5)\n",
        "print(a[five_up])"
      ],
      "metadata": {
        "id": "M_TATzLyu4yQ"
      },
      "execution_count": null,
      "outputs": []
    },
    {
      "cell_type": "markdown",
      "source": [
        "Anda dapat memilih elemen yang habis dibagi 2:"
      ],
      "metadata": {
        "id": "TKnDPbd0vBls"
      }
    },
    {
      "cell_type": "code",
      "source": [
        "divisible_by_2 = a[a%2==0]\n",
        "print(divisible_by_2)"
      ],
      "metadata": {
        "id": "ZaJ3R3vOvFGu"
      },
      "execution_count": null,
      "outputs": []
    },
    {
      "cell_type": "markdown",
      "source": [
        "Atau Anda dapat memilih elemen yang memenuhi dua kondisi menggunakan & dan | operator:"
      ],
      "metadata": {
        "id": "1E5L6WfZvTiD"
      }
    },
    {
      "cell_type": "code",
      "source": [
        "c = a[(a > 2) & (a < 11)]\n",
        "print(c)"
      ],
      "metadata": {
        "id": "PNMS_PrrvY-F"
      },
      "execution_count": null,
      "outputs": []
    },
    {
      "cell_type": "markdown",
      "source": [
        "Anda juga dapat menggunakan operator logika & dan | untuk mengembalikan nilai boolean yang menentukan apakah nilai dalam array memenuhi kondisi tertentu atau tidak. Ini bisa berguna dengan array yang berisi nama atau nilai kategorikal lainnya."
      ],
      "metadata": {
        "id": "BAtPgvuCvaXc"
      }
    },
    {
      "cell_type": "code",
      "source": [
        "five_up = (a > 5) | (a == 5)\n",
        "print(five_up)"
      ],
      "metadata": {
        "id": "p25NQL58voGf"
      },
      "execution_count": null,
      "outputs": []
    },
    {
      "cell_type": "markdown",
      "source": [
        "Anda juga dapat menggunakan `np.nonzero()` untuk memilih elemen atau indeks dari array.\n",
        "\n",
        "Dimulai dengan array ini:"
      ],
      "metadata": {
        "id": "zqit91B1vpaj"
      }
    },
    {
      "cell_type": "code",
      "source": [
        "a = np.array([[1, 2, 3, 4], [5, 6, 7, 8], [9, 10, 11, 12]])"
      ],
      "metadata": {
        "id": "MXJVZhQAvwFz"
      },
      "execution_count": null,
      "outputs": []
    },
    {
      "cell_type": "markdown",
      "source": [
        "Anda dapat menggunakan `np.nonzero()` untuk mencetak indeks elemen yang, misalnya, kurang dari 5:"
      ],
      "metadata": {
        "id": "0CX-wXJhv4XX"
      }
    },
    {
      "cell_type": "code",
      "source": [
        "b = np.nonzero(a < 5) #mencetak indeks elemen yang kurang dari 5:\n",
        "print(b)"
      ],
      "metadata": {
        "id": "xIs4pnO4v7SD"
      },
      "execution_count": null,
      "outputs": []
    },
    {
      "cell_type": "markdown",
      "source": [
        "Dalam contoh ini, sejumlah array dikembalikan: satu untuk setiap dimensi. Array pertama mewakili indeks baris tempat nilai-nilai ini ditemukan, dan array kedua mewakili indeks kolom tempat nilai-nilai tersebut ditemukan.\n",
        "\n",
        "Jika Anda ingin membuat daftar koordinat tempat elemen berada, Anda dapat meng-zip array, mengulangi daftar koordinat, dan mencetaknya. Misalnya:"
      ],
      "metadata": {
        "id": "7aNKvg_SwPT2"
      }
    },
    {
      "cell_type": "code",
      "source": [
        "list_of_coordinates= list(zip(b[0], b[1]))\n",
        "for coord in list_of_coordinates:\n",
        "    print(coord)"
      ],
      "metadata": {
        "id": "L8Y5e3rlwTHm"
      },
      "execution_count": null,
      "outputs": []
    },
    {
      "cell_type": "markdown",
      "source": [
        "Anda juga dapat menggunakan `np.nonzero()` untuk mencetak elemen dalam array yang kurang dari 5 dengan:"
      ],
      "metadata": {
        "id": "hANbBolnwcMi"
      }
    },
    {
      "cell_type": "code",
      "source": [
        "print(a[b])"
      ],
      "metadata": {
        "id": "Q-ICcSNXwmSH"
      },
      "execution_count": null,
      "outputs": []
    },
    {
      "cell_type": "markdown",
      "source": [
        "Jika elemen yang Anda cari tidak ada dalam array, maka array indeks yang dikembalikan akan kosong. Misalnya:"
      ],
      "metadata": {
        "id": "ANUBsHrbwzdW"
      }
    },
    {
      "cell_type": "code",
      "source": [
        "not_there = np.nonzero(a == 42)\n",
        "print(not_there)"
      ],
      "metadata": {
        "id": "-AlYszlBw3YR"
      },
      "execution_count": null,
      "outputs": []
    },
    {
      "cell_type": "markdown",
      "source": [
        "#Cara membuat array dari data yang ada\n",
        "Bagian ini mencakup pemotongan dan pengindeksan, `np.vstack(), np.hstack(), np.hsplit(), .view(), copy()`\n",
        "\n",
        "Anda dapat dengan mudah membuat array baru dari bagian array yang sudah ada.\n",
        "\n",
        "Katakanlah Anda memiliki array ini:"
      ],
      "metadata": {
        "id": "8VWuPrl2xE4I"
      }
    },
    {
      "cell_type": "code",
      "source": [
        "a = np.array([1,  2,  3,  4,  5,  6,  7,  8,  9, 10])"
      ],
      "metadata": {
        "id": "pZUw4JawxPX6"
      },
      "execution_count": null,
      "outputs": []
    },
    {
      "cell_type": "markdown",
      "source": [
        "Anda dapat membuat array baru dari suatu bagian array kapan saja dengan menentukan di mana Anda ingin mengiris array Anda."
      ],
      "metadata": {
        "id": "aB599kWlxW3k"
      }
    },
    {
      "cell_type": "code",
      "source": [
        "arr1 = a[3:8]\n",
        "arr1"
      ],
      "metadata": {
        "id": "tTy0urSbxYD1"
      },
      "execution_count": null,
      "outputs": []
    },
    {
      "cell_type": "markdown",
      "source": [
        "Di sini, Anda mengambil bagian array Anda dari posisi indeks 3 hingga posisi indeks 8.\n",
        "\n",
        "Anda juga dapat menumpuk dua array yang ada, baik secara vertikal maupun horizontal. Katakanlah Anda memiliki dua array, a1 dan a2:"
      ],
      "metadata": {
        "id": "6w1HHPQFxba_"
      }
    },
    {
      "cell_type": "code",
      "source": [
        "a1 = np.array([[1, 1],\n",
        "               [2, 2]])\n",
        "\n",
        "a2 = np.array([[3, 3],\n",
        "               [4, 4]])"
      ],
      "metadata": {
        "id": "hPiRgMh3xkqZ"
      },
      "execution_count": null,
      "outputs": []
    },
    {
      "cell_type": "markdown",
      "source": [
        "Anda dapat menumpuknya secara vertikal dengan vstack:"
      ],
      "metadata": {
        "id": "7ktAL_pyxl8z"
      }
    },
    {
      "cell_type": "code",
      "source": [
        "np.vstack((a1, a2))"
      ],
      "metadata": {
        "id": "mYQd4OLpxr97"
      },
      "execution_count": null,
      "outputs": []
    },
    {
      "cell_type": "markdown",
      "source": [
        "Atau susun secara horizontal dengan hstack:"
      ],
      "metadata": {
        "id": "axe2AFx0xwtP"
      }
    },
    {
      "cell_type": "code",
      "source": [
        "np.hstack((a1, a2))"
      ],
      "metadata": {
        "id": "gAPz65gPxxOP"
      },
      "execution_count": null,
      "outputs": []
    },
    {
      "cell_type": "markdown",
      "source": [
        "Anda dapat membagi array menjadi beberapa array yang lebih kecil menggunakan hsplit. Anda dapat menentukan jumlah array berbentuk sama yang akan dikembalikan atau kolom setelah pembagian harus dilakukan.\n",
        "\n",
        "Katakanlah Anda memiliki array ini:"
      ],
      "metadata": {
        "id": "EyMmadV6x9pl"
      }
    },
    {
      "cell_type": "code",
      "source": [
        "x = np.arange(1, 25).reshape(2, 12)\n",
        "x"
      ],
      "metadata": {
        "id": "0H8VEXLBx-JX"
      },
      "execution_count": null,
      "outputs": []
    },
    {
      "cell_type": "markdown",
      "source": [
        "Jika Anda ingin membagi array ini menjadi tiga array yang bentuknya sama, jalankan:"
      ],
      "metadata": {
        "id": "y15AclAFyE6h"
      }
    },
    {
      "cell_type": "code",
      "source": [
        "np.hsplit(x, 3)"
      ],
      "metadata": {
        "id": "gbPeL3hDyFZt"
      },
      "execution_count": null,
      "outputs": []
    },
    {
      "cell_type": "markdown",
      "source": [
        "Jika Anda ingin membagi array setelah kolom ketiga dan keempat, jalankan:"
      ],
      "metadata": {
        "id": "jaJ6Kb8ZyRty"
      }
    },
    {
      "cell_type": "code",
      "source": [
        "np.hsplit(x, (3, 4))"
      ],
      "metadata": {
        "id": "aTuXu6nlySIV"
      },
      "execution_count": null,
      "outputs": []
    },
    {
      "cell_type": "markdown",
      "source": [
        "Anda dapat menggunakan metode view untuk membuat objek array baru yang terlihat pada data yang sama dengan array asli (salinan dangkal).\n",
        "\n",
        "Tampilan adalah konsep NumPy yang penting! Fungsi NumPy, serta operasi seperti pengindeksan dan pemotongan, akan mengembalikan tampilan bila memungkinkan. Ini menghemat memori dan lebih cepat (tidak perlu membuat salinan data). Namun penting untuk menyadari hal ini - mengubah data dalam tampilan juga mengubah array asli!\n",
        "\n",
        "Katakanlah Anda membuat array ini:"
      ],
      "metadata": {
        "id": "QO_wxYGEyasl"
      }
    },
    {
      "cell_type": "code",
      "source": [
        "a = np.array([[1, 2, 3, 4], [5, 6, 7, 8], [9, 10, 11, 12]])"
      ],
      "metadata": {
        "id": "Ij-vdqPwybV-"
      },
      "execution_count": null,
      "outputs": []
    },
    {
      "cell_type": "markdown",
      "source": [
        "Sekarang kita membuat array b1 dengan mengiris a dan memodifikasi elemen pertama b1. Ini juga akan mengubah elemen terkait di a!"
      ],
      "metadata": {
        "id": "iX44DXFCymZa"
      }
    },
    {
      "cell_type": "code",
      "source": [
        "b5 = a[0, :]\n",
        "print(b5)\n",
        "b5[0] = 99\n",
        "print(b5)\n",
        "a"
      ],
      "metadata": {
        "id": "uqob3tH5ym5e"
      },
      "execution_count": null,
      "outputs": []
    },
    {
      "cell_type": "markdown",
      "source": [
        "Menggunakan metode copy akan membuat salinan lengkap dari array dan datanya (salinan dalam). Untuk menggunakan ini pada array Anda, Anda dapat menjalankan:"
      ],
      "metadata": {
        "id": "yYnJjv2zy_Ls"
      }
    },
    {
      "cell_type": "code",
      "source": [
        "b2 = a.copy()\n",
        "print(b2)"
      ],
      "metadata": {
        "id": "ado0HsNQy_iS"
      },
      "execution_count": null,
      "outputs": []
    },
    {
      "cell_type": "markdown",
      "source": [
        "#Operasi array dasar\n",
        "*Bagian ini mencakup penjumlahan, pengurangan, perkalian, pembagian, dan lainnya*![np_MSE_formula.png](data:image/png;base64,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)\n",
        "\n",
        "Setelah Anda membuat array, Anda dapat mulai mengerjakannya. Katakanlah, misalnya, Anda telah membuat dua array, satu disebut “data” dan satu lagi disebut “satuan”"
      ],
      "metadata": {
        "id": "GV-hh8ay1tgR"
      }
    },
    {
      "cell_type": "markdown",
      "source": [
        "Anda dapat menambahkan array bersama dengan tanda tambah."
      ],
      "metadata": {
        "id": "QEukmosO166L"
      }
    },
    {
      "cell_type": "code",
      "source": [
        "data = np.array([1, 2])\n",
        "ones = np.ones(2, dtype=int)\n",
        "b7 = data + ones\n",
        "print(b7)"
      ],
      "metadata": {
        "id": "9H3Wn_wW13pi"
      },
      "execution_count": null,
      "outputs": []
    },
    {
      "cell_type": "markdown",
      "source": [
        "Tentu saja, Anda dapat melakukan lebih dari sekadar penambahan!"
      ],
      "metadata": {
        "id": "6KuIuzfV1-Wp"
      }
    },
    {
      "cell_type": "code",
      "source": [
        "b8 =data - ones\n",
        "print(b8)\n",
        "b9 =data * data\n",
        "print(b9)\n",
        "c1 = data / data\n",
        "print(c1)"
      ],
      "metadata": {
        "id": "BpMWOuHS2B_c"
      },
      "execution_count": null,
      "outputs": []
    },
    {
      "cell_type": "markdown",
      "source": [
        "Pengoperasian dasar sederhana dengan `NumPy`. Jika Anda ingin mencari jumlah elemen dalam array, Anda akan menggunakan **sum()**. Ini berfungsi untuk array 1D, array 2D, dan array dalam dimensi yang lebih tinggi."
      ],
      "metadata": {
        "id": "6g5ATcly2aT3"
      }
    },
    {
      "cell_type": "code",
      "source": [
        "a = np.array([1, 2, 3, 4])\n",
        "print(a.sum())"
      ],
      "metadata": {
        "id": "jl24OTxt2ieT"
      },
      "execution_count": null,
      "outputs": []
    },
    {
      "cell_type": "markdown",
      "source": [
        "Untuk menambahkan baris atau kolom dalam array 2D, Anda harus menentukan sumbunya.\n",
        "\n",
        "Jika Anda memulai dengan array ini:"
      ],
      "metadata": {
        "id": "93f8ZtWs2rpp"
      }
    },
    {
      "cell_type": "code",
      "source": [
        "b = np.array([[1, 1], [2, 2]])"
      ],
      "metadata": {
        "id": "XBU8fmwN2sop"
      },
      "execution_count": null,
      "outputs": []
    },
    {
      "cell_type": "markdown",
      "source": [
        "Anda dapat menjumlahkan sumbu baris dengan:"
      ],
      "metadata": {
        "id": "h_JuqGPD2woL"
      }
    },
    {
      "cell_type": "code",
      "source": [
        "c2 = b.sum(axis=0)\n",
        "print(c2)"
      ],
      "metadata": {
        "id": "U08pH1Xs2xF4"
      },
      "execution_count": null,
      "outputs": []
    },
    {
      "cell_type": "markdown",
      "source": [
        "Anda dapat menjumlahkan sumbu kolom dengan:"
      ],
      "metadata": {
        "id": "_dvX6FTt24lO"
      }
    },
    {
      "cell_type": "code",
      "source": [
        "c3 = b.sum(axis=1)\n",
        "print(c3)"
      ],
      "metadata": {
        "id": "cn1F8_8F25Fn"
      },
      "execution_count": null,
      "outputs": []
    },
    {
      "cell_type": "markdown",
      "source": [
        "#Penyiaran\n",
        "Ada kalanya Anda mungkin ingin melakukan operasi antara array dan satu bilangan (disebut juga operasi antara vektor dan skalar) atau antara array dengan dua ukuran berbeda. Misalnya, array Anda (kami menyebutnya “data”) mungkin berisi informasi tentang jarak dalam mil, tetapi Anda ingin mengonversi informasi tersebut menjadi kilometer. Anda dapat melakukan operasi ini dengan:"
      ],
      "metadata": {
        "id": "pa2RNMWH3HPw"
      }
    },
    {
      "cell_type": "code",
      "source": [
        "data = np.array([1.0, 2.0])\n",
        "print(data * 1.6)"
      ],
      "metadata": {
        "id": "wdH5u8rY3Hsf"
      },
      "execution_count": null,
      "outputs": []
    },
    {
      "cell_type": "markdown",
      "source": [
        "`NumPy` memahami bahwa perkalian harus terjadi pada setiap sel. Konsep itu disebut penyiaran. Penyiaran adalah mekanisme yang memungkinkan NumPy melakukan operasi pada array dengan bentuk berbeda. Dimensi array Anda harus sesuai, misalnya dimensi kedua array sama atau salah satunya 1. Jika dimensi tidak kompatibel, Anda akan mendapatkan ValueError."
      ],
      "metadata": {
        "id": "_IqtKRrm3T-p"
      }
    },
    {
      "cell_type": "markdown",
      "source": [
        "#Operasi array yang lebih berguna\n",
        "Bagian ini mencakup *maksimum, minimum, jumlah, mean, produk, deviasi standar, dan banyak lagi*\n",
        "\n",
        "`NumPy` juga melakukan fungsi agregasi. Selain min, max, dan sum, Anda dapat dengan mudah menjalankan mean untuk mendapatkan rata-rata, prod untuk mendapatkan hasil perkalian elemen, std untuk mendapatkan standar deviasi, dan banyak lagi."
      ],
      "metadata": {
        "id": "Kn3Axzlf3bHZ"
      }
    },
    {
      "cell_type": "code",
      "source": [
        "c4 = data.max()\n",
        "print(c4)\n",
        "c5 = data.min()\n",
        "print(c5)\n",
        "c6 = data.sum()\n",
        "print(c6)"
      ],
      "metadata": {
        "id": "Ub6AjIkb3jyr"
      },
      "execution_count": null,
      "outputs": []
    },
    {
      "cell_type": "markdown",
      "source": [
        "Mari kita mulai dengan array ini, yang disebut “a”"
      ],
      "metadata": {
        "id": "rEqxkAKl3o7h"
      }
    },
    {
      "cell_type": "code",
      "source": [
        "a = np.array([[0.45053314, 0.17296777, 0.34376245, 0.5510652],\n",
        "              [0.54627315, 0.05093587, 0.40067661, 0.55645993],\n",
        "              [0.12697628, 0.82485143, 0.26590556, 0.56917101]])"
      ],
      "metadata": {
        "id": "-8Gnuwr83qJb"
      },
      "execution_count": null,
      "outputs": []
    },
    {
      "cell_type": "markdown",
      "source": [
        "Sangat umum untuk ingin menggabungkan sepanjang baris atau kolom. Secara default, setiap fungsi agregasi NumPy akan mengembalikan agregat seluruh array. Untuk menemukan jumlah atau jumlah minimum elemen dalam array Anda, jalankan:"
      ],
      "metadata": {
        "id": "v9yyfvaI3zwf"
      }
    },
    {
      "cell_type": "code",
      "source": [
        "c7 = a.sum()\n",
        "print(c7)"
      ],
      "metadata": {
        "id": "Grcfl0jn33Lr"
      },
      "execution_count": null,
      "outputs": []
    },
    {
      "cell_type": "markdown",
      "source": [
        "Atau:"
      ],
      "metadata": {
        "id": "Mm3pB-oQ335f"
      }
    },
    {
      "cell_type": "code",
      "source": [
        "c8 = a.min()\n",
        "print(c8)"
      ],
      "metadata": {
        "id": "I8-QgdPx37ZX"
      },
      "execution_count": null,
      "outputs": []
    },
    {
      "cell_type": "markdown",
      "source": [
        "Anda dapat menentukan pada sumbu mana Anda ingin fungsi agregasi dihitung. Misalnya, Anda dapat menemukan nilai minimum dalam setiap kolom dengan menentukan sumbu=0."
      ],
      "metadata": {
        "id": "QbnqdGbg4CNz"
      }
    },
    {
      "cell_type": "code",
      "source": [
        "c9 = a.min(axis=0)\n",
        "print(c9)"
      ],
      "metadata": {
        "id": "1GHXFk-74FX6"
      },
      "execution_count": null,
      "outputs": []
    },
    {
      "cell_type": "markdown",
      "source": [
        "Keempat nilai yang tercantum di atas sesuai dengan jumlah kolom dalam array Anda. Dengan array empat kolom, Anda akan mendapatkan empat nilai sebagai hasilnya."
      ],
      "metadata": {
        "id": "g-ojmi1T4JY3"
      }
    },
    {
      "cell_type": "markdown",
      "source": [
        "#Membuat matriks\n",
        "Anda dapat meneruskan daftar daftar Python untuk membuat array 2-D (atau \"matriks\") untuk mewakilinya di NumPy."
      ],
      "metadata": {
        "id": "nl0tF6nQ4KMv"
      }
    },
    {
      "cell_type": "code",
      "source": [
        "data_1 = np.array([[1, 2], [3, 4], [5, 6]])\n",
        "prin(data_1)"
      ],
      "metadata": {
        "id": "PoOyvNdt4TmS"
      },
      "execution_count": null,
      "outputs": []
    },
    {
      "cell_type": "markdown",
      "source": [
        "Operasi pengindeksan dan pemotongan berguna saat Anda memanipulasi matriks:\n"
      ],
      "metadata": {
        "id": "O8vOcBs_4ZAB"
      }
    },
    {
      "cell_type": "code",
      "source": [
        "print(data_1[0, 1])\n",
        "print(data_1[1:3])\n",
        "print(data_1[0:2, 0])"
      ],
      "metadata": {
        "id": "rYKMMhK54a2p"
      },
      "execution_count": null,
      "outputs": []
    },
    {
      "cell_type": "markdown",
      "source": [
        "Anda dapat mengagregasi matriks dengan cara yang sama seperti Anda mengagregasi vektor:\n"
      ],
      "metadata": {
        "id": "TdtbEpOW4qBO"
      }
    },
    {
      "cell_type": "code",
      "source": [
        "print(data_1.min)\n",
        "print(data_1.max)\n",
        "print(data_1.sum)"
      ],
      "metadata": {
        "id": "5AF39RJ64sty"
      },
      "execution_count": null,
      "outputs": []
    },
    {
      "cell_type": "markdown",
      "source": [
        "Anda dapat menggabungkan semua nilai dalam matriks dan menggabungkannya di seluruh kolom atau baris menggunakan parameter sumbu. Untuk mengilustrasikan hal ini, mari kita lihat kumpulan data yang sedikit dimodifikasi:\n"
      ],
      "metadata": {
        "id": "708_-0VT4wlu"
      }
    },
    {
      "cell_type": "code",
      "source": [
        "data_2 = np.array([[1, 2], [5, 3], [4, 6]])\n",
        "print(data_2)\n",
        "print(data_2.max(axis=0))\n",
        "print(data_2.max(axis=1))"
      ],
      "metadata": {
        "id": "gvwLZ2By4yKo"
      },
      "execution_count": null,
      "outputs": []
    },
    {
      "cell_type": "markdown",
      "source": [
        "Setelah Anda membuat matriks, Anda dapat menjumlahkan dan mengalikannya menggunakan operator aritmatika jika Anda memiliki dua matriks yang berukuran sama.\n"
      ],
      "metadata": {
        "id": "HmyKBdcf47lu"
      }
    },
    {
      "cell_type": "code",
      "source": [
        "data_3 = np.array([[1, 2], [3, 4]])\n",
        "ones = np.array([[1, 1], [1, 1]])\n",
        "print(data_3 + ones)"
      ],
      "metadata": {
        "id": "sxBQFdCS5Ag6"
      },
      "execution_count": null,
      "outputs": []
    },
    {
      "cell_type": "markdown",
      "source": [
        "Anda dapat melakukan operasi aritmatika ini pada matriks dengan ukuran berbeda, tetapi hanya jika satu matriks hanya memiliki satu kolom atau satu baris. Dalam hal ini, NumPy akan menggunakan aturan siarannya untuk operasi tersebut.\n"
      ],
      "metadata": {
        "id": "4mnJxH1b5GSw"
      }
    },
    {
      "cell_type": "code",
      "source": [
        "data_4 = np.array([[1, 2], [3, 4], [5, 6]])\n",
        "ones_row = np.array([[1, 1]])\n",
        "print(data_4 + ones_row)"
      ],
      "metadata": {
        "id": "tPyAUTul5HKZ"
      },
      "execution_count": null,
      "outputs": []
    },
    {
      "cell_type": "markdown",
      "source": [
        "Perlu diketahui bahwa saat NumPy mencetak array berdimensi N, sumbu terakhir dilingkarkan pada sumbu tercepat sedangkan sumbu pertama adalah sumbu paling lambat. Contohnya:\n"
      ],
      "metadata": {
        "id": "nYBDAu0j5NR2"
      }
    },
    {
      "cell_type": "code",
      "source": [
        "print(np.ones((4, 3, 2)))"
      ],
      "metadata": {
        "id": "Wsd0zqcx5Nta"
      },
      "execution_count": null,
      "outputs": []
    },
    {
      "cell_type": "markdown",
      "source": [
        "Sering kali kita ingin NumPy menginisialisasi nilai array. NumPy menawarkan fungsi seperti `ones()` dan `zeros()`, dan kelas random.Generator untuk menghasilkan angka acak untuk itu. Yang perlu Anda lakukan hanyalah memasukkan jumlah elemen yang ingin Anda hasilkan:\n"
      ],
      "metadata": {
        "id": "pi4xjga-5To3"
      }
    },
    {
      "cell_type": "code",
      "source": [
        "print(np.ones(3))\n",
        "print(np.zeros(3))\n",
        "rng = np.random.default_rng()  # the simplest way to generate random numbers\n",
        "print(rng.random(3))"
      ],
      "metadata": {
        "id": "PlQgdyt15ULG"
      },
      "execution_count": null,
      "outputs": []
    },
    {
      "cell_type": "markdown",
      "source": [
        "Anda juga dapat menggunakan `one()`, `zeros()`, dan `random()` untuk membuat array 2D jika Anda memberinya tupel yang menjelaskan dimensi matriks:\n"
      ],
      "metadata": {
        "id": "sZiRDxU15jSk"
      }
    },
    {
      "cell_type": "code",
      "source": [
        "print(np.ones((3, 2)))\n",
        "print(np.zeros((3, 2)))\n",
        "print(rng.random((3, 2)))\n"
      ],
      "metadata": {
        "id": "IPfdC05W5m2z"
      },
      "execution_count": null,
      "outputs": []
    },
    {
      "cell_type": "markdown",
      "source": [
        "#Menghasilkan angka acak\n",
        "Penggunaan pembangkitan angka acak merupakan bagian penting dari konfigurasi dan evaluasi banyak algoritma numerik dan pembelajaran mesin. Baik Anda perlu menginisialisasi bobot secara acak dalam jaringan saraf tiruan, membagi data menjadi kumpulan acak, atau mengacak kumpulan data secara acak, kemampuan untuk menghasilkan angka acak (sebenarnya, angka acak semu yang dapat diulang) sangatlah penting.\n",
        "\n",
        "Dengan Generator.integers, Anda dapat menghasilkan bilangan bulat acak dari rendah (ingat bahwa ini inklusif dengan NumPy) hingga tinggi (eksklusif). Anda dapat mengatur endpoint=True untuk menjadikan angka tinggi inklusif.\n",
        "\n",
        "Anda dapat menghasilkan array bilangan bulat acak berukuran 2 x 4 antara 0 dan 4 dengan:"
      ],
      "metadata": {
        "id": "QK13SPsM57T-"
      }
    },
    {
      "cell_type": "code",
      "source": [
        "rng.integers(5, size=(2, 4))\n"
      ],
      "metadata": {
        "id": "7uoL8Otk6Adk"
      },
      "execution_count": null,
      "outputs": []
    },
    {
      "cell_type": "markdown",
      "source": [
        "#Cara mendapatkan item unik dan terhitung\n",
        "Bagian ini mencakup `np.unique()`\n",
        "\n",
        "Anda dapat menemukan elemen unik dalam array dengan mudah menggunakan np.unique.\n",
        "\n",
        "Misalnya, jika Anda memulai dengan array ini:"
      ],
      "metadata": {
        "id": "f-eJ5RTy6FoL"
      }
    },
    {
      "cell_type": "code",
      "source": [
        "a10 = np.array([11, 11, 12, 13, 14, 15, 16, 17, 12, 13, 11, 14, 18, 19, 20])"
      ],
      "metadata": {
        "id": "rzEXgWRt6LPD"
      },
      "execution_count": null,
      "outputs": []
    },
    {
      "cell_type": "markdown",
      "source": [
        "Anda dapat menggunakan `np.unique` untuk mencetak nilai unik dalam array Anda:\n"
      ],
      "metadata": {
        "id": "Exce_8kz6Pym"
      }
    },
    {
      "cell_type": "code",
      "source": [
        "unique_values = np.unique(a10)\n",
        "print(unique_values)"
      ],
      "metadata": {
        "id": "1N3S1_4U6W-K"
      },
      "execution_count": null,
      "outputs": []
    },
    {
      "cell_type": "markdown",
      "source": [
        "Untuk mendapatkan indeks nilai unik dalam array NumPy (array dengan posisi indeks pertama dari nilai unik dalam array), cukup teruskan argumen return_index di np.unique() serta array Anda."
      ],
      "metadata": {
        "id": "bzId209m6c5q"
      }
    },
    {
      "cell_type": "code",
      "source": [
        "unique_values, indices_list = np.unique(a10, return_index=True)\n",
        "print(indices_list"
      ],
      "metadata": {
        "id": "w83BqwZP6h6G"
      },
      "execution_count": null,
      "outputs": []
    },
    {
      "cell_type": "markdown",
      "source": [
        "Anda dapat meneruskan argumen return_counts di np.unique() bersama dengan array Anda untuk mendapatkan jumlah frekuensi nilai unik dalam array NumPy.\n"
      ],
      "metadata": {
        "id": "LMGWfsgv6iy9"
      }
    },
    {
      "cell_type": "code",
      "source": [
        "unique_values, occurrence_count = np.unique(a10, return_counts=True)\n",
        "print(occurrence_count)"
      ],
      "metadata": {
        "id": "cR8mrCOx6nTf"
      },
      "execution_count": null,
      "outputs": []
    },
    {
      "cell_type": "markdown",
      "source": [
        "Ini juga berfungsi dengan array 2D! Jika Anda memulai dengan array ini:"
      ],
      "metadata": {
        "id": "UwUF8G9e6uot"
      }
    },
    {
      "cell_type": "code",
      "source": [
        "a_2d = np.array([[1, 2, 3, 4], [5, 6, 7, 8], [9, 10, 11, 12], [1, 2, 3, 4]])"
      ],
      "metadata": {
        "id": "s1DfKl2E6vYq"
      },
      "execution_count": null,
      "outputs": []
    },
    {
      "cell_type": "markdown",
      "source": [
        "Anda dapat menemukan nilai unik dengan:\n"
      ],
      "metadata": {
        "id": "jquc1dkm67jl"
      }
    },
    {
      "cell_type": "code",
      "source": [
        "unique_values = np.unique(a_2d)\n",
        "print(unique_values)"
      ],
      "metadata": {
        "id": "r-c8UNke6_TS"
      },
      "execution_count": null,
      "outputs": []
    },
    {
      "cell_type": "markdown",
      "source": [
        "Jika argumen sumbu tidak lolos, array 2D Anda akan diratakan.\n",
        "\n",
        "Jika Anda ingin mendapatkan baris atau kolom unik, pastikan untuk meneruskan argumen sumbu. Untuk menemukan baris unik, tentukan sumbu=0 dan untuk kolom, tentukan sumbu=1."
      ],
      "metadata": {
        "id": "XzXOcwuK7HkS"
      }
    },
    {
      "cell_type": "code",
      "source": [
        "unique_rows = np.unique(a_2d, axis=0)\n",
        "print(unique_rows)"
      ],
      "metadata": {
        "id": "UT8z25607MeU"
      },
      "execution_count": null,
      "outputs": []
    },
    {
      "cell_type": "markdown",
      "source": [
        "Untuk mendapatkan baris unik, posisi indeks, dan jumlah kemunculan, Anda dapat menggunakan:\n"
      ],
      "metadata": {
        "id": "i1MohHqb7NbH"
      }
    },
    {
      "cell_type": "code",
      "source": [
        "unique_rows, indices, occurrence_count = np.unique(\n",
        "     a_2d, axis=0, return_counts=True, return_index=True)\n",
        "print(unique_rows)\n",
        "print(indices)\n",
        "print(occurrence_count)"
      ],
      "metadata": {
        "id": "gpe9LHFK7Uqv"
      },
      "execution_count": null,
      "outputs": []
    },
    {
      "cell_type": "markdown",
      "source": [
        "#Mengubah urutan dan membentuk kembali matriks\n",
        "Bagian ini mencakup `arr.reshape()`, `arr.transpose()`, `arr.T`\n",
        "\n",
        "Merupakan hal yang umum untuk mengubah urutan matriks Anda. Array NumPy memiliki properti T yang memungkinkan Anda mengubah urutan matriks."
      ],
      "metadata": {
        "id": "XECIXbm17YpL"
      }
    },
    {
      "cell_type": "markdown",
      "source": [
        "Anda mungkin juga perlu mengganti dimensi matriks. Hal ini dapat terjadi ketika, misalnya, Anda memiliki model yang mengharapkan bentuk masukan tertentu yang berbeda dari kumpulan data Anda. Di sinilah metode pembentukan kembali dapat berguna. Anda hanya perlu memasukkan dimensi baru yang Anda inginkan untuk matriks tersebut.\n"
      ],
      "metadata": {
        "id": "65olXa8k7f18"
      }
    },
    {
      "cell_type": "code",
      "source": [
        "data.reshape(2, 3)\n",
        "data.reshape(3, 2)"
      ],
      "metadata": {
        "id": "-28xB8XD7k4l"
      },
      "execution_count": null,
      "outputs": []
    },
    {
      "cell_type": "markdown",
      "source": [
        "Anda juga dapat menggunakan `.transpose()` untuk membalikkan atau mengubah sumbu array sesuai dengan nilai yang Anda tentukan.\n",
        "\n",
        "Jika Anda memulai dengan array ini:"
      ],
      "metadata": {
        "id": "k06CL5Be7roM"
      }
    },
    {
      "cell_type": "code",
      "source": [
        "arr = np.arange(6).reshape((2, 3))\n",
        "print(arr)"
      ],
      "metadata": {
        "id": "WkuQ5Epw7se8"
      },
      "execution_count": null,
      "outputs": []
    },
    {
      "cell_type": "markdown",
      "source": [
        "Anda dapat mengubah urutan array Anda dengan `arr.transpose().`"
      ],
      "metadata": {
        "id": "mxAAhGmS7yyZ"
      }
    },
    {
      "cell_type": "code",
      "source": [
        "print(arr.transpose())"
      ],
      "metadata": {
        "id": "eiUjn9Fi73Te"
      },
      "execution_count": null,
      "outputs": []
    },
    {
      "cell_type": "markdown",
      "source": [
        "Anda juga dapat menggunakan `arr.T:`"
      ],
      "metadata": {
        "id": "bnSi6JQ577gK"
      }
    },
    {
      "cell_type": "code",
      "source": [
        "print(arr.T)"
      ],
      "metadata": {
        "id": "rcuLcc0578qi"
      },
      "execution_count": null,
      "outputs": []
    },
    {
      "cell_type": "markdown",
      "source": [
        "#Cara membalikkan array\n",
        "Bagian ini mencakup `np.flip()`\n",
        "\n",
        "Fungsi `np.flip()` NumPy memungkinkan Anda membalik, atau membalikkan, konten array sepanjang sumbu. Saat menggunakan `np.flip()`, tentukan array yang ingin Anda balikkan dan sumbunya. Jika Anda tidak menentukan sumbunya, NumPy akan membalikkan konten di sepanjang sumbu array masukan Anda."
      ],
      "metadata": {
        "id": "JEUV4ZBw8D6-"
      }
    },
    {
      "cell_type": "markdown",
      "source": [
        "#Membalikkan array 1D\n",
        "\n",
        "Jika Anda memulai dengan array 1D seperti ini:"
      ],
      "metadata": {
        "id": "oSVDM5A78Vo3"
      }
    },
    {
      "cell_type": "code",
      "source": [
        "arr = np.array([1, 2, 3, 4, 5, 6, 7, 8])"
      ],
      "metadata": {
        "id": "Ju8E0JzQ8k9a"
      },
      "execution_count": null,
      "outputs": []
    },
    {
      "cell_type": "markdown",
      "source": [
        "Anda dapat membalikkannya dengan:"
      ],
      "metadata": {
        "id": "BbkwT_Kp8l8i"
      }
    },
    {
      "cell_type": "code",
      "source": [
        "reversed_arr = np.flip(arr)"
      ],
      "metadata": {
        "id": "Z2d6pQwb8pWM"
      },
      "execution_count": null,
      "outputs": []
    },
    {
      "cell_type": "markdown",
      "source": [
        "Jika Anda ingin mencetak array terbalik, Anda dapat menjalankan:\n"
      ],
      "metadata": {
        "id": "rwxOvSBf8rnU"
      }
    },
    {
      "cell_type": "code",
      "source": [
        "print('Reversed Array: ', reversed_arr)"
      ],
      "metadata": {
        "id": "6irH0PZV8wu8"
      },
      "execution_count": null,
      "outputs": []
    },
    {
      "cell_type": "markdown",
      "source": [
        "#Membalikkan array 2D\n",
        "\n",
        "Array 2D bekerja dengan cara yang hampir sama.\n",
        "\n",
        "Jika Anda memulai dengan array ini:"
      ],
      "metadata": {
        "id": "jmvT4dlb809b"
      }
    },
    {
      "cell_type": "code",
      "source": [
        "arr_2d = np.array([[1, 2, 3, 4], [5, 6, 7, 8], [9, 10, 11, 12]])"
      ],
      "metadata": {
        "id": "1OyqPrvw82-M"
      },
      "execution_count": null,
      "outputs": []
    },
    {
      "cell_type": "markdown",
      "source": [
        "Anda dapat membalikkan konten di semua baris dan kolom dengan:\n"
      ],
      "metadata": {
        "id": "N-jlRsXG88SJ"
      }
    },
    {
      "cell_type": "code",
      "source": [
        "reversed_arr = np.flip(arr_2d)\n",
        "print(reversed_arr)"
      ],
      "metadata": {
        "id": "T_vlV2AF89I2"
      },
      "execution_count": null,
      "outputs": []
    },
    {
      "cell_type": "markdown",
      "source": [
        "Anda dapat dengan mudah membalikkan baris saja dengan:\n"
      ],
      "metadata": {
        "id": "y66cF98p8_QQ"
      }
    },
    {
      "cell_type": "code",
      "source": [
        "reversed_arr_rows = np.flip(arr_2d, axis=0)\n",
        "print(reversed_arr_rows)"
      ],
      "metadata": {
        "id": "fa4KOCnt9Dag"
      },
      "execution_count": null,
      "outputs": []
    },
    {
      "cell_type": "markdown",
      "source": [
        "Atau balikkan hanya kolom dengan\n"
      ],
      "metadata": {
        "id": "wv7d_DHF9GLT"
      }
    },
    {
      "cell_type": "code",
      "source": [
        "reversed_arr_columns = np.flip(arr_2d, axis=1)\n",
        "print(reversed_arr_columns)"
      ],
      "metadata": {
        "id": "mdw-njFg9J8O"
      },
      "execution_count": null,
      "outputs": []
    },
    {
      "cell_type": "markdown",
      "source": [
        "Anda juga dapat membalik isi satu kolom atau baris saja. Misalnya, Anda dapat membalik isi baris pada posisi indeks 1 (baris kedua):\n"
      ],
      "metadata": {
        "id": "_BBnq33b9MN8"
      }
    },
    {
      "cell_type": "code",
      "source": [
        "arr_2d[1] = np.flip(arr_2d[1])\n",
        "print(arr_2d)"
      ],
      "metadata": {
        "id": "GOkGq5Y39PWX"
      },
      "execution_count": null,
      "outputs": []
    },
    {
      "cell_type": "markdown",
      "source": [
        "Anda juga dapat membalikkan kolom pada posisi indeks 1 (kolom kedua):\n"
      ],
      "metadata": {
        "id": "af1tjYYt9RxO"
      }
    },
    {
      "cell_type": "code",
      "source": [
        "arr_2d[:,1] = np.flip(arr_2d[:,1])\n",
        "print(arr_2d)"
      ],
      "metadata": {
        "id": "ZkRIWr3Q9V2x"
      },
      "execution_count": null,
      "outputs": []
    },
    {
      "cell_type": "markdown",
      "source": [
        "#Membentuk kembali dan meratakan array multidimensi\n",
        "Bagian ini mencakup `.flatten()`, `ravel()`\n",
        "\n",
        "Ada dua cara populer untuk meratakan array: `.flatten()` dan `.ravel()`. Perbedaan utama antara keduanya adalah bahwa array baru yang dibuat menggunakan `ravel()` sebenarnya adalah referensi ke array induk (yaitu, “tampilan”). Artinya, setiap perubahan pada array baru akan mempengaruhi array induknya juga. Karena `ravel` tidak membuat salinan, ini hemat memori.\n",
        "\n",
        "Jika Anda memulai dengan array ini:"
      ],
      "metadata": {
        "id": "WrQrpT6g9can"
      }
    },
    {
      "cell_type": "code",
      "source": [
        "x = np.array([[1 , 2, 3, 4], [5, 6, 7, 8], [9, 10, 11, 12]])"
      ],
      "metadata": {
        "id": "8n6_n3Fo9oSu"
      },
      "execution_count": null,
      "outputs": []
    },
    {
      "cell_type": "markdown",
      "source": [
        "Anda dapat menggunakan flatten untuk meratakan array Anda menjadi array 1D.\n"
      ],
      "metadata": {
        "id": "jY0oPbqT9slz"
      }
    },
    {
      "cell_type": "code",
      "source": [
        "x.flatten()"
      ],
      "metadata": {
        "id": "gq8CDEdR9tSW"
      },
      "execution_count": null,
      "outputs": []
    },
    {
      "cell_type": "markdown",
      "source": [
        "Saat Anda menggunakan flatten, perubahan pada array baru Anda tidak akan mengubah array induk.\n",
        "\n",
        "Misalnya:"
      ],
      "metadata": {
        "id": "hqhPgFe99ygF"
      }
    },
    {
      "cell_type": "code",
      "source": [
        "a1 = x.flatten()\n",
        "a1[0] = 99\n",
        "print(x)\n",
        "print(a1)"
      ],
      "metadata": {
        "id": "uNU7b31O9zJj"
      },
      "execution_count": null,
      "outputs": []
    },
    {
      "cell_type": "markdown",
      "source": [
        "Namun saat Anda menggunakan ravel, perubahan yang Anda buat pada array baru akan memengaruhi array induk.\n",
        "\n",
        "Misalnya:"
      ],
      "metadata": {
        "id": "GtDw16iW9_R8"
      }
    },
    {
      "cell_type": "code",
      "source": [
        "a2 = x.ravel()\n",
        "a2[0] = 98\n",
        "print(x)\n",
        "print(a2)"
      ],
      "metadata": {
        "id": "TKr34RLv-F4c"
      },
      "execution_count": null,
      "outputs": []
    },
    {
      "cell_type": "markdown",
      "source": [
        "#Cara mengakses docstring untuk informasi lebih lanjut\n",
        "*Bagian ini mencakup `help(), ?, ??`*\n",
        "\n",
        "Jika berbicara tentang ekosistem ilmu data, Python dan NumPy dibuat dengan mempertimbangkan pengguna. Salah satu contoh terbaiknya adalah akses bawaan ke dokumentasi. Setiap objek berisi referensi ke sebuah string, yang dikenal sebagai `docstring`. Dalam kebanyakan kasus, `docstring` ini berisi ringkasan cepat dan ringkas tentang objek dan cara menggunakannya. Python memiliki fungsi `help()` bawaan yang dapat membantu Anda mengakses informasi ini. Artinya, hampir kapan pun Anda membutuhkan informasi lebih lanjut, Anda dapat menggunakan `help()` untuk menemukan informasi yang Anda perlukan dengan cepat.\n",
        "\n",
        "Misalnya:"
      ],
      "metadata": {
        "id": "5mUyxYCE-H48"
      }
    },
    {
      "cell_type": "code",
      "source": [
        "help(max)"
      ],
      "metadata": {
        "id": "SEI_-ndm-kIa"
      },
      "execution_count": null,
      "outputs": []
    },
    {
      "cell_type": "markdown",
      "source": [
        "Karena akses ke informasi tambahan sangat berguna, IPython menggunakan ? karakter sebagai singkatan untuk mengakses dokumentasi ini beserta informasi relevan lainnya. IPython adalah shell perintah untuk komputasi interaktif dalam berbagai bahasa. Anda dapat menemukan informasi lebih lanjut tentang IPython di sini.\n",
        "\n",
        "Misalnya:"
      ],
      "metadata": {
        "id": "0i8fWvzA-peJ"
      }
    },
    {
      "cell_type": "code",
      "source": [
        "in[0]: max?"
      ],
      "metadata": {
        "id": "mhrpWAPK-_E9"
      },
      "execution_count": null,
      "outputs": []
    },
    {
      "cell_type": "markdown",
      "source": [
        "Anda bahkan dapat menggunakan notasi ini untuk metode objek dan objek itu sendiri.\n",
        "\n",
        "Katakanlah Anda membuat array ini:"
      ],
      "metadata": {
        "id": "fFGrHEby_H9o"
      }
    },
    {
      "cell_type": "code",
      "source": [
        "a = np.array([1, 2, 3, 4, 5, 6])"
      ],
      "metadata": {
        "id": "3GfBO7ih_J4g"
      },
      "execution_count": null,
      "outputs": []
    },
    {
      "cell_type": "markdown",
      "source": [
        "Kemudian Anda dapat memperoleh banyak informasi berguna (detail pertama tentang a itu sendiri, diikuti oleh `docstring dari` `ndarray` yang mana `a` merupakan contohnya):"
      ],
      "metadata": {
        "id": "JPI3TdxC_O1K"
      }
    },
    {
      "cell_type": "code",
      "source": [
        "in[1]: a?"
      ],
      "metadata": {
        "id": "6P1a0u0t_aQC"
      },
      "execution_count": null,
      "outputs": []
    },
    {
      "cell_type": "markdown",
      "source": [
        "Ini juga berfungsi untuk fungsi dan objek lain yang Anda buat. Ingatlah untuk menyertakan docstring dengan fungsi Anda menggunakan string literal (\"\"\" \"\"\" or ''' ''' di sekitar dokumentasi Anda).\n",
        "\n",
        "Misalnya, jika Anda membuat fungsi ini:"
      ],
      "metadata": {
        "id": "RlhY80zR_hDJ"
      }
    },
    {
      "cell_type": "code",
      "source": [
        "def double(a):\n",
        "  '''Return a * 2'''\n",
        "  return a * 2"
      ],
      "metadata": {
        "id": "3lz8e4cU_mwS"
      },
      "execution_count": null,
      "outputs": []
    },
    {
      "cell_type": "markdown",
      "source": [
        "Anda dapat memperoleh informasi tentang fungsi:\n"
      ],
      "metadata": {
        "id": "KeX1Or_2_tII"
      }
    },
    {
      "cell_type": "code",
      "source": [
        "int[2]: double?"
      ],
      "metadata": {
        "id": "Kon2AYE4_t6L"
      },
      "execution_count": null,
      "outputs": []
    },
    {
      "cell_type": "markdown",
      "source": [
        "Anda dapat mencapai tingkat informasi lain dengan membaca kode sumber objek yang Anda minati. Menggunakan tanda tanya ganda (??) memungkinkan Anda mengakses kode sumber.\n",
        "\n",
        "Misalnya:"
      ],
      "metadata": {
        "id": "dh9JbYIZ_4__"
      }
    },
    {
      "cell_type": "code",
      "source": [
        "int[3]: double??"
      ],
      "metadata": {
        "id": "Andqrg0U_7bo"
      },
      "execution_count": null,
      "outputs": []
    },
    {
      "cell_type": "markdown",
      "source": [
        "Jika objek yang dimaksud dikompilasi dalam bahasa selain Python, gunakan ?? akan mengembalikan informasi yang sama seperti ?. Anda akan menemukannya dengan banyak objek dan tipe bawaan, misalnya:\n"
      ],
      "metadata": {
        "id": "lUynJFf0AA3h"
      }
    },
    {
      "cell_type": "code",
      "source": [
        "int[4]: len?"
      ],
      "metadata": {
        "id": "ehXAX6ORADyo"
      },
      "execution_count": null,
      "outputs": []
    },
    {
      "cell_type": "markdown",
      "source": [
        "dan"
      ],
      "metadata": {
        "id": "o76nkhQhAFhd"
      }
    },
    {
      "cell_type": "code",
      "source": [
        "int[5]: len??"
      ],
      "metadata": {
        "id": "nuLX4WRqAHSN"
      },
      "execution_count": null,
      "outputs": []
    },
    {
      "cell_type": "markdown",
      "source": [
        "memiliki keluaran yang sama karena dikompilasi dalam bahasa pemrograman selain Python."
      ],
      "metadata": {
        "id": "5yyix2hGAML4"
      }
    },
    {
      "cell_type": "markdown",
      "source": [
        "#Bekerja dengan rumus matematika\n",
        "Kemudahan penerapan rumus matematika yang bekerja pada array menjadi salah satu hal yang membuat NumPy begitu banyak digunakan dalam komunitas ilmiah Python.\n",
        "\n",
        "Misalnya, ini adalah rumus kesalahan kuadrat rata-rata (rumus utama yang digunakan dalam model pembelajaran mesin terawasi yang menangani regresi):\n",
        "\n",
        "\n"
      ],
      "metadata": {
        "id": "9D3jttm3AR7v"
      }
    },
    {
      "cell_type": "markdown",
      "source": [
        "Menerapkan rumus ini sederhana dan mudah di NumPy:"
      ],
      "metadata": {
        "id": "BRCkFfjZBNzY"
      }
    },
    {
      "cell_type": "code",
      "source": [
        "error = (1/n) * np.sum(np.square(predictions - labels))"
      ],
      "metadata": {
        "id": "6ADrc8MjBCKb"
      },
      "execution_count": null,
      "outputs": []
    },
    {
      "cell_type": "markdown",
      "source": [
        "#Bagaimana cara menyimpan dan memuat objek NumPy\n",
        "Bagian ini mencakup `np.save, np.savez, np.savetxt, np.load, np.loadtxt`\n",
        "\n",
        "Pada titik tertentu, Anda ingin menyimpan array ke disk dan memuatnya kembali tanpa harus menjalankan ulang kodenya. Untungnya, ada beberapa cara untuk menyimpan dan memuat objek dengan NumPy. Objek ndarray dapat disimpan dan dimuat dari file disk dengan fungsi `loadtxt` dan `savetxt` yang menangani file teks normal, fungsi muat dan simpan yang menangani file biner NumPy dengan ekstensi file **.npy**, dan fungsi savez yang menangani file NumPy dengan file Ekstensi file **.npz**.\n",
        "\n",
        "File **.npy** dan **.npz** menyimpan data, bentuk, tipe d, dan informasi lain yang diperlukan untuk merekonstruksi ndarray sedemikian rupa sehingga memungkinkan array diambil dengan benar, bahkan ketika file berada di komputer lain dengan arsitektur berbeda.\n",
        "\n",
        "Jika Anda ingin menyimpan satu objek ndarray, simpanlah sebagai file .npy menggunakan `np.save`. Jika Anda ingin menyimpan lebih dari satu objek ndarray dalam satu file, simpan sebagai file .npz menggunakan `np.savez`. Anda juga dapat menyimpan beberapa array ke dalam satu file dalam format npz terkompresi dengan `savez_compressed.`\n",
        "\n",
        "Sangat mudah untuk menyimpan, memuat, dan menyusun dengan `np.save()`. Pastikan untuk menentukan array yang ingin Anda simpan dan nama file. Misalnya, jika Anda membuat array ini:"
      ],
      "metadata": {
        "id": "A47rQfaIBiEh"
      }
    },
    {
      "cell_type": "code",
      "source": [
        "a = np.array([1, 2, 3, 4, 5, 6])"
      ],
      "metadata": {
        "id": "fnHLK07NCJZ4"
      },
      "execution_count": null,
      "outputs": []
    },
    {
      "cell_type": "markdown",
      "source": [
        "Anda dapat menyimpannya sebagai \"nama file.npy\" dengan:\n"
      ],
      "metadata": {
        "id": "Kws5WUAnCOsJ"
      }
    },
    {
      "cell_type": "code",
      "source": [
        "np.save('filename', a)"
      ],
      "metadata": {
        "id": "k_gZ5TNoCPZ6"
      },
      "execution_count": null,
      "outputs": []
    },
    {
      "cell_type": "markdown",
      "source": [
        "Anda dapat menggunakan `np.load()` untuk merekonstruksi array Anda.\n"
      ],
      "metadata": {
        "id": "vFbfETvYCVtT"
      }
    },
    {
      "cell_type": "code",
      "source": [
        "b = np.load('filename.npy')"
      ],
      "metadata": {
        "id": "uklEZAdLCZdh"
      },
      "execution_count": null,
      "outputs": []
    },
    {
      "cell_type": "markdown",
      "source": [
        "Jika Anda ingin memeriksa array Anda, Anda dapat menjalankan:"
      ],
      "metadata": {
        "id": "MmECA69oCc4P"
      }
    },
    {
      "cell_type": "code",
      "source": [
        "print(b)"
      ],
      "metadata": {
        "id": "Qm6Qbt6sCe9K"
      },
      "execution_count": null,
      "outputs": []
    },
    {
      "cell_type": "markdown",
      "source": [
        "Anda dapat menyimpan array NumPy sebagai file teks biasa seperti file **.csv** atau **.txt** dengan `np.savetxt`.\n"
      ],
      "metadata": {
        "id": "aBmSib-xCi8Z"
      }
    },
    {
      "cell_type": "code",
      "source": [
        "csv_arr = np.array([1, 2, 3, 4, 5, 6, 7, 8])"
      ],
      "metadata": {
        "id": "NICPMYDbCiYB"
      },
      "execution_count": null,
      "outputs": []
    },
    {
      "cell_type": "markdown",
      "source": [
        "Anda dapat dengan mudah menyimpannya sebagai file .csv dengan nama “new_file.csv” seperti ini:"
      ],
      "metadata": {
        "id": "_tTupgpzCqwX"
      }
    },
    {
      "cell_type": "code",
      "source": [
        "np.savetxt('new_file.csv', csv_arr)"
      ],
      "metadata": {
        "id": "K7iXGSQVCtzR"
      },
      "execution_count": null,
      "outputs": []
    },
    {
      "cell_type": "markdown",
      "source": [
        "Anda dapat dengan cepat dan mudah memuat file teks yang disimpan menggunakan `loadtxt()`:\n"
      ],
      "metadata": {
        "id": "3OCGINs_Cy2m"
      }
    },
    {
      "cell_type": "code",
      "source": [
        "np.loadtxt('new_file.csv')"
      ],
      "metadata": {
        "id": "Q2VilTTNC2TR"
      },
      "execution_count": null,
      "outputs": []
    },
    {
      "cell_type": "markdown",
      "source": [
        "Fungsi `savetxt()` dan `loadtxt()` menerima parameter opsional tambahan seperti header, footer, dan pembatas. Meskipun file teks lebih mudah untuk dibagikan, file .npy dan .npz lebih kecil dan lebih cepat dibaca. Jika Anda memerlukan penanganan yang lebih canggih terhadap file teks Anda (misalnya, jika Anda perlu bekerja dengan baris yang berisi nilai yang hilang), Anda dapat menggunakan fungsi `genfromtxt`.\n",
        "\n",
        "Dengan savetxt, Anda dapat menentukan header, footer, komentar, dan lainnya."
      ],
      "metadata": {
        "id": "dH1a4beIC7fj"
      }
    },
    {
      "cell_type": "markdown",
      "source": [
        "#Mengimpor dan mengekspor CSV\n",
        "Sangat mudah untuk membaca di CSV yang berisi informasi yang ada. Cara terbaik dan termudah untuk melakukan ini adalah dengan menggunakan Pandas."
      ],
      "metadata": {
        "id": "HHi7bLpQDDdK"
      }
    },
    {
      "cell_type": "code",
      "source": [
        "# Jika semua kolom Anda bertipe sama:\n",
        "x = pd.read_csv('music.csv', header=0).values #erorr\n",
        "print(x)\n",
        "# Anda juga dapat memilih kolom yang Anda perlukan:\n",
        "x = pd.read_csv('music.csv', usecols=['Artist', 'Plays']).values #erorr\n",
        "print(x)"
      ],
      "metadata": {
        "id": "CqxmSML8DSRr"
      },
      "execution_count": null,
      "outputs": []
    },
    {
      "cell_type": "markdown",
      "source": [
        "Sangat mudah untuk menggunakan Pandas untuk mengekspor array Anda juga. Jika Anda baru mengenal NumPy, Anda mungkin ingin membuat kerangka data Pandas dari nilai dalam array Anda dan kemudian menulis bingkai data ke file CSV dengan Pandas.\n",
        "\n",
        "Jika Anda membuat array ini \"a\""
      ],
      "metadata": {
        "id": "Eb6LVwcrDZBQ"
      }
    },
    {
      "cell_type": "code",
      "source": [
        "a = np.array([[-2.58289208,  0.43014843, -1.24082018, 1.59572603],\n",
        "              [ 0.99027828, 1.17150989,  0.94125714, -0.14692469],\n",
        "              [ 0.76989341,  0.81299683, -0.95068423, 0.11769564],\n",
        "              [ 0.20484034,  0.34784527,  1.96979195, 0.51992837]])"
      ],
      "metadata": {
        "id": "OFmhUkJCDcyS"
      },
      "execution_count": null,
      "outputs": []
    },
    {
      "cell_type": "markdown",
      "source": [
        "Anda dapat membuat kerangka data Pandas\n"
      ],
      "metadata": {
        "id": "bBsR_s9iDgHe"
      }
    },
    {
      "cell_type": "code",
      "source": [
        "df = pd.DataFrame(a)\n",
        "print(df)"
      ],
      "metadata": {
        "id": "EmZxAnOBDilf"
      },
      "execution_count": null,
      "outputs": []
    },
    {
      "cell_type": "markdown",
      "source": [
        "Anda dapat dengan mudah menyimpan kerangka data Anda dengan:"
      ],
      "metadata": {
        "id": "rT_QvqwBDn9w"
      }
    },
    {
      "cell_type": "code",
      "source": [
        "df.to_csv('pd.csv')"
      ],
      "metadata": {
        "id": "CC1bsNsdDq94"
      },
      "execution_count": null,
      "outputs": []
    },
    {
      "cell_type": "markdown",
      "source": [
        "Dan baca CSV Anda dengan:"
      ],
      "metadata": {
        "id": "HhHxhMuDD0k9"
      }
    },
    {
      "cell_type": "code",
      "source": [
        "data = pd.read_csv('pd.csv')"
      ],
      "metadata": {
        "id": "7f4sy1mEDxkP"
      },
      "execution_count": null,
      "outputs": []
    },
    {
      "cell_type": "markdown",
      "source": [
        "Anda juga dapat menyimpan array Anda dengan metode NumPy `savetxt`.\n"
      ],
      "metadata": {
        "id": "ryh_zw9RD4gk"
      }
    },
    {
      "cell_type": "code",
      "source": [
        "np.savetxt('np.csv', a, fmt='%.2f', delimiter=',', header='1,  2,  3,  4')"
      ],
      "metadata": {
        "id": "DUR30VVWD9Yh"
      },
      "execution_count": null,
      "outputs": []
    },
    {
      "cell_type": "markdown",
      "source": [
        "Jika Anda menggunakan baris perintah, Anda dapat membaca CSV yang disimpan kapan saja dengan perintah seperti:\n"
      ],
      "metadata": {
        "id": "1IJ-Fz6bECKA"
      }
    },
    {
      "cell_type": "code",
      "source": [
        "$ cat np.csv\n",
        "#  1,  2,  3,  4\n",
        "-2.58,0.43,-1.24,1.60\n",
        "0.99,1.17,0.94,-0.15\n",
        "0.77,0.81,-0.95,0.12\n",
        "0.20,0.35,1.97,0.52"
      ],
      "metadata": {
        "id": "ZEBFOXxAELNl"
      },
      "execution_count": null,
      "outputs": []
    },
    {
      "cell_type": "markdown",
      "source": [
        "#Merencanakan array dengan Matplotlib\n",
        "Jika Anda perlu membuat plot untuk nilai-nilai Anda, itu sangat sederhana dengan `Matplotlib`.\n",
        "\n",
        "Misalnya, Anda mungkin memiliki array seperti ini:"
      ],
      "metadata": {
        "id": "6vmzfb-NEPwI"
      }
    },
    {
      "cell_type": "code",
      "source": [
        "a = np.array([2, 1, 5, 7, 4, 6, 8, 14, 10, 9, 18, 20, 22])"
      ],
      "metadata": {
        "id": "eqTW79IhEUtr"
      },
      "execution_count": null,
      "outputs": []
    },
    {
      "cell_type": "markdown",
      "source": [
        "Jika Anda sudah menginstal Matplotlib, Anda dapat mengimpornya dengan:"
      ],
      "metadata": {
        "id": "gdbHMOc_EYQE"
      }
    },
    {
      "cell_type": "code",
      "source": [
        "impor matplotlib.pyplot sebagai plt\n",
        "\n",
        "# Jika Anda menggunakan Jupyter Notebook, Anda mungkin juga ingin menjalankan yang berikut ini\n",
        "# baris kode untuk menampilkan kode Anda di buku catatan:\n",
        "\n",
        "%matplotlib sebaris"
      ],
      "metadata": {
        "id": "E2v0Z_HGEdCu"
      },
      "execution_count": null,
      "outputs": []
    },
    {
      "cell_type": "markdown",
      "source": [
        "Yang perlu Anda lakukan untuk memplot nilai-nilai Anda adalah menjalankan:"
      ],
      "metadata": {
        "id": "Shc4ZharEgwj"
      }
    },
    {
      "cell_type": "code",
      "source": [
        "plt.plot(a)\n",
        "\n",
        "# If you are running from a command line, you may need to do this:\n",
        "# >>> plt.show()"
      ],
      "metadata": {
        "id": "1DcRIVc5EjNa"
      },
      "execution_count": null,
      "outputs": []
    },
    {
      "cell_type": "markdown",
      "source": [
        "Misalnya, Anda dapat memplot array 1D seperti ini:\n"
      ],
      "metadata": {
        "id": "5m39K954EnFm"
      }
    },
    {
      "cell_type": "code",
      "source": [
        "x = np.linspace(0, 5, 20)\n",
        "y = np.linspace(0, 10, 20)\n",
        "plt.plot(x, y, 'purple') # baris\n",
        "plt.plot(x, y, 'o')      # titik"
      ],
      "metadata": {
        "id": "dVb4wulhEraX"
      },
      "execution_count": null,
      "outputs": []
    },
    {
      "cell_type": "markdown",
      "source": [
        "Dengan Matplotlib, Anda memiliki akses ke sejumlah besar opsi visualisasi.\n"
      ],
      "metadata": {
        "id": "Mk8BE_mzEvQJ"
      }
    },
    {
      "cell_type": "code",
      "source": [
        "fig = plt.figure()\n",
        "ax = fig.add_subplot(projection='3d')\n",
        "X = np.arange(-5, 5, 0.15)\n",
        "Y = np.arange(-5, 5, 0.15)\n",
        "X, Y = np.meshgrid(X, Y)\n",
        "R = np.sqrt(X**2 + Y**2)\n",
        "Z = np.sin(R)\n",
        "\n",
        "ax.plot_surface(X, Y, Z, rstride=1, cstride=1, cmap='viridis')"
      ],
      "metadata": {
        "id": "CkUe2SAvEzSO"
      },
      "execution_count": null,
      "outputs": []
    },
    {
      "cell_type": "markdown",
      "source": [
        "Untuk membaca lebih lanjut tentang Matplotlib dan apa yang dapat dilakukannya, lihat dokumentasi resminya. Untuk petunjuk mengenai instalasi Matplotlib, lihat bagian instalasi resmi."
      ],
      "metadata": {
        "id": "4nabn5yUE5gd"
      }
    }
  ]
}